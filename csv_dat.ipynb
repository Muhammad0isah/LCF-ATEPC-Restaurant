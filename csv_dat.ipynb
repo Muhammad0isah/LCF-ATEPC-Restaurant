{
 "cells": [
  {
   "cell_type": "code",
   "execution_count": null,
   "id": "initial_id",
   "metadata": {
    "ExecuteTime": {
     "end_time": "2024-06-08T10:04:02.680348Z",
     "start_time": "2024-06-08T10:03:10.168504Z"
    }
   },
   "outputs": [],
   "source": [
    "import pandas as pd\n",
    "import nltk\n",
    "from nltk.tokenize import word_tokenize\n",
    "\n",
    "# Ensure nltk resources are available\n",
    "nltk.download('punkt')\n",
    "\n",
    "def get_all_aspects(data):\n",
    "    aspect_dict = {}\n",
    "    for _, row in data.iterrows():\n",
    "        sentence = row['Review Sentence']\n",
    "        aspect = row['Aspect term']\n",
    "        if sentence not in aspect_dict:\n",
    "            aspect_dict[sentence] = []\n",
    "        aspect_dict[sentence].append(aspect)\n",
    "    return aspect_dict\n",
    "\n",
    "def nltk_format_data(row, all_aspects):\n",
    "    # Tokenize the sentence while correctly handling punctuation\n",
    "    tokens = word_tokenize(row['Review Sentence'])\n",
    "    current_aspect = row['Aspect term']\n",
    "    emotion_code = {'Positive': 2, 'Neutral': 0, 'Negative': 1}[row['Simplified Emotion']]\n",
    "    \n",
    "    # Get all aspects for the current sentence\n",
    "    all_aspects_in_sentence = all_aspects[row['Review Sentence']]\n",
    "    \n",
    "    # Normalize the tokens to ensure consistent matching with aspect terms\n",
    "    normalized_tokens = [token.rstrip('.,?!:;') for token in tokens]\n",
    "    \n",
    "    formatted_sentence = []\n",
    "    i = 0\n",
    "    while i < len(tokens):\n",
    "        normalized_token = normalized_tokens[i]\n",
    "        matched_aspect = None\n",
    "        \n",
    "        # Check if the token is part of any aspect term\n",
    "        for aspect in all_aspects_in_sentence:\n",
    "            aspect_tokens = aspect.split()\n",
    "            aspect_length = len(aspect_tokens)\n",
    "            if normalized_tokens[i:i+aspect_length] == aspect_tokens:\n",
    "                matched_aspect = aspect\n",
    "                break\n",
    "        \n",
    "        if matched_aspect:\n",
    "            aspect_tokens = matched_aspect.split()\n",
    "            for j, aspect_token in enumerate(aspect_tokens):\n",
    "                if j == 0:\n",
    "                    formatted_sentence.append(f\"{aspect_token} B-ASP {emotion_code if matched_aspect == current_aspect else '-1'}\")\n",
    "                else:\n",
    "                    formatted_sentence.append(f\"{aspect_token} I-ASP {emotion_code if matched_aspect == current_aspect else '-1'}\")\n",
    "            i += len(aspect_tokens)  # Skip the aspect tokens\n",
    "        else:\n",
    "            formatted_sentence.append(f\"{tokens[i]} O -1\")\n",
    "            i += 1\n",
    "\n",
    "    return \"\\n\".join(formatted_sentence)\n",
    "\n",
    "# Sample use\n",
    "data = pd.DataFrame({\n",
    "    'Review Sentence': ['The food was great but the service was slow.', 'The food was great but the service was slow.'],\n",
    "    'Aspect term': ['food', 'service'],\n",
    "    'Simplified Emotion': ['Positive', 'Negative']\n",
    "})\n",
    "\n",
    "# Get all aspects for each sentence\n",
    "all_aspects = get_all_aspects(data)\n",
    "\n",
    "# Apply NLTK formatting to the DataFrame and display the results\n",
    "example_data_nltk_formatted = data.apply(nltk_format_data, axis=1, all_aspects=all_aspects)\n",
    "print(example_data_nltk_formatted.values[0])  # Displaying formatted data for the first entry\n",
    "print(example_data_nltk_formatted.values[1])  # Displaying formatted data for the second entry\n"
   ]
  },
  {
   "cell_type": "code",
   "execution_count": null,
   "id": "b161d7aec7ed2c91",
   "metadata": {},
   "outputs": [],
   "source": []
  }
 ],
 "metadata": {
  "kernelspec": {
   "display_name": "Python 3",
   "language": "python",
   "name": "python3"
  },
  "language_info": {
   "codemirror_mode": {
    "name": "ipython",
    "version": 3
   },
   "file_extension": ".py",
   "mimetype": "text/x-python",
   "name": "python",
   "nbconvert_exporter": "python",
   "pygments_lexer": "ipython3",
   "version": "3.8.8"
  }
 },
 "nbformat": 4,
 "nbformat_minor": 5
}
