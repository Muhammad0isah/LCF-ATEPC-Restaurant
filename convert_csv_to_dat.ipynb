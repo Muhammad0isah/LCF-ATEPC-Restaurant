{
 "cells": [
  {
   "cell_type": "code",
   "execution_count": 6,
   "id": "9cd94e78",
   "metadata": {
    "ExecuteTime": {
     "end_time": "2024-05-28T08:04:23.152414Z",
     "start_time": "2024-05-28T08:04:23.118705Z"
    }
   },
   "outputs": [],
   "source": [
    "import pandas as pd\n",
    "from sklearn.model_selection import train_test_split\n",
    "import string\n",
    "\n",
    "# Function to convert a row to .dat format\n",
    "# Function to convert a row to .dat format\n",
    "def convert_row_to_dat(row, emotion_map):\n",
    "    sentence = row['Review Sentence']\n",
    "    words = sentence.split()\n",
    "    aspect_term = row['Aspect term']\n",
    "    polarity = row['polarity']\n",
    "    from_idx = row['from']\n",
    "    to_idx = row['to']\n",
    "    emotion_class = row['Emotion Class']\n",
    "\n",
    "    dat_lines = []\n",
    "    current_idx = 0\n",
    "\n",
    "    for word in words:\n",
    "        clean_word = word.strip(string.punctuation)  # Remove punctuation from the word\n",
    "        word_start_idx = sentence.find(clean_word, current_idx)\n",
    "        word_end_idx = word_start_idx + len(clean_word)\n",
    "\n",
    "        # Determine aspect term tag and polarity tag\n",
    "        if word_start_idx >= from_idx and word_end_idx <= to_idx:\n",
    "            aspect_tag = 'B-ASP' if sentence[from_idx:to_idx+1].find(clean_word) == 0 else 'I-ASP'\n",
    "            polarity_tag = {\n",
    "                'negative': 0,\n",
    "                'neutral': 1,\n",
    "                'positive': 3\n",
    "            }.get(polarity, -1)\n",
    "            emotion_tag = emotion_map[emotion_class]  # Assign the emotion class to all words\n",
    "        else:\n",
    "            aspect_tag = 'O'\n",
    "            polarity_tag = -1  # Use 0 (negative) for all other words\n",
    "            emotion_tag = -1\n",
    "\n",
    "\n",
    "        dat_line = f\"{word} {aspect_tag} {polarity_tag} {emotion_tag}\"\n",
    "        dat_lines.append(dat_line)\n",
    "        current_idx = word_end_idx\n",
    "\n",
    "    dat_lines.append(\"\")  # Add a blank line to separate sentences\n",
    "    return \"\\n\".join(dat_lines)\n",
    "def convert_and_save(df, output_dat):\n",
    "    # Manually specify the mapping of emotion classes to integers\n",
    "    emotion_map = {\n",
    "        \"Anger\": 0,\n",
    "        \"Disgust\": 1,\n",
    "        \"Fear\": 2,\n",
    "        \"Joy\": 3,\n",
    "        \"Sadness\": 4,\n",
    "        \"Surprise\": 5\n",
    "    }\n",
    "\n",
    "    dat_content = df.apply(lambda row: convert_row_to_dat(row, emotion_map), axis=1).str.cat(sep='\\n')\n",
    "    with open(output_dat, 'w') as f:\n",
    "        f.write(dat_content)\n",
    "    print(f\"Data successfully converted to {output_dat} format.\")"
   ]
  },
  {
   "cell_type": "code",
   "execution_count": 7,
   "id": "19cf04e2",
   "metadata": {
    "ExecuteTime": {
     "end_time": "2024-05-28T08:04:23.781355Z",
     "start_time": "2024-05-28T08:04:23.638759Z"
    }
   },
   "outputs": [
    {
     "data": {
      "text/plain": "          id                                    Review Sentence  \\\n0     3121.0               But the staff was so horrible to us.   \n1     2777.0  To be completely fair, the only redeeming fact...   \n2     1634.0  The food is uniformly exceptional, with a very...   \n3     1634.0  The food is uniformly exceptional, with a very...   \n4     1634.0  The food is uniformly exceptional, with a very...   \n...      ...                                                ...   \n4828     NaN  Each table has a pot of boiling water sunken i...   \n4829     NaN  Each table has a pot of boiling water sunken i...   \n4830     NaN  Each table has a pot of boiling water sunken i...   \n4831     NaN  Each table has a pot of boiling water sunken i...   \n4832     NaN  Each table has a pot of boiling water sunken i...   \n\n               Aspect term  polarity  from   to  Anger  Disgust  Fear  Joy  \\\n0                    staff  negative     8   13    4.0      1.0   1.0  0.0   \n1                     food  positive    57   61    0.0      0.0   0.0  2.0   \n2                     food  positive     4    8    0.0      0.0   0.0  4.0   \n3                  kitchen  positive    55   62    0.0      0.0   0.0  4.0   \n4                     menu   neutral   141  145    0.0      0.0   0.0  4.0   \n...                    ...       ...   ...  ...    ...      ...   ...  ...   \n4828  pot of boiling water   neutral    17   37    2.0      2.0   0.0  1.0   \n4829                 meats   neutral    99  104    0.0      0.0   0.0  3.0   \n4830            vegetables   neutral   114  124    0.0      0.0   0.0  2.0   \n4831                  rice   neutral   130  134    0.0      0.0   0.0  2.0   \n4832         glass noodles   neutral   139  152    0.0      0.0   0.0  2.0   \n\n      Sadness  Surprise Emotion Class  \n0         3.0       1.0         Anger  \n1         0.0       0.0           Joy  \n2         0.0       0.0           Joy  \n3         0.0       0.0           Joy  \n4         0.0       0.0           Joy  \n...       ...       ...           ...  \n4828      0.0       0.0         Anger  \n4829      0.0       1.0           Joy  \n4830      0.0       1.0           Joy  \n4831      0.0       1.0           Joy  \n4832      0.0       1.0           Joy  \n\n[4833 rows x 13 columns]",
      "text/html": "<div>\n<style scoped>\n    .dataframe tbody tr th:only-of-type {\n        vertical-align: middle;\n    }\n\n    .dataframe tbody tr th {\n        vertical-align: top;\n    }\n\n    .dataframe thead th {\n        text-align: right;\n    }\n</style>\n<table border=\"1\" class=\"dataframe\">\n  <thead>\n    <tr style=\"text-align: right;\">\n      <th></th>\n      <th>id</th>\n      <th>Review Sentence</th>\n      <th>Aspect term</th>\n      <th>polarity</th>\n      <th>from</th>\n      <th>to</th>\n      <th>Anger</th>\n      <th>Disgust</th>\n      <th>Fear</th>\n      <th>Joy</th>\n      <th>Sadness</th>\n      <th>Surprise</th>\n      <th>Emotion Class</th>\n    </tr>\n  </thead>\n  <tbody>\n    <tr>\n      <th>0</th>\n      <td>3121.0</td>\n      <td>But the staff was so horrible to us.</td>\n      <td>staff</td>\n      <td>negative</td>\n      <td>8</td>\n      <td>13</td>\n      <td>4.0</td>\n      <td>1.0</td>\n      <td>1.0</td>\n      <td>0.0</td>\n      <td>3.0</td>\n      <td>1.0</td>\n      <td>Anger</td>\n    </tr>\n    <tr>\n      <th>1</th>\n      <td>2777.0</td>\n      <td>To be completely fair, the only redeeming fact...</td>\n      <td>food</td>\n      <td>positive</td>\n      <td>57</td>\n      <td>61</td>\n      <td>0.0</td>\n      <td>0.0</td>\n      <td>0.0</td>\n      <td>2.0</td>\n      <td>0.0</td>\n      <td>0.0</td>\n      <td>Joy</td>\n    </tr>\n    <tr>\n      <th>2</th>\n      <td>1634.0</td>\n      <td>The food is uniformly exceptional, with a very...</td>\n      <td>food</td>\n      <td>positive</td>\n      <td>4</td>\n      <td>8</td>\n      <td>0.0</td>\n      <td>0.0</td>\n      <td>0.0</td>\n      <td>4.0</td>\n      <td>0.0</td>\n      <td>0.0</td>\n      <td>Joy</td>\n    </tr>\n    <tr>\n      <th>3</th>\n      <td>1634.0</td>\n      <td>The food is uniformly exceptional, with a very...</td>\n      <td>kitchen</td>\n      <td>positive</td>\n      <td>55</td>\n      <td>62</td>\n      <td>0.0</td>\n      <td>0.0</td>\n      <td>0.0</td>\n      <td>4.0</td>\n      <td>0.0</td>\n      <td>0.0</td>\n      <td>Joy</td>\n    </tr>\n    <tr>\n      <th>4</th>\n      <td>1634.0</td>\n      <td>The food is uniformly exceptional, with a very...</td>\n      <td>menu</td>\n      <td>neutral</td>\n      <td>141</td>\n      <td>145</td>\n      <td>0.0</td>\n      <td>0.0</td>\n      <td>0.0</td>\n      <td>4.0</td>\n      <td>0.0</td>\n      <td>0.0</td>\n      <td>Joy</td>\n    </tr>\n    <tr>\n      <th>...</th>\n      <td>...</td>\n      <td>...</td>\n      <td>...</td>\n      <td>...</td>\n      <td>...</td>\n      <td>...</td>\n      <td>...</td>\n      <td>...</td>\n      <td>...</td>\n      <td>...</td>\n      <td>...</td>\n      <td>...</td>\n      <td>...</td>\n    </tr>\n    <tr>\n      <th>4828</th>\n      <td>NaN</td>\n      <td>Each table has a pot of boiling water sunken i...</td>\n      <td>pot of boiling water</td>\n      <td>neutral</td>\n      <td>17</td>\n      <td>37</td>\n      <td>2.0</td>\n      <td>2.0</td>\n      <td>0.0</td>\n      <td>1.0</td>\n      <td>0.0</td>\n      <td>0.0</td>\n      <td>Anger</td>\n    </tr>\n    <tr>\n      <th>4829</th>\n      <td>NaN</td>\n      <td>Each table has a pot of boiling water sunken i...</td>\n      <td>meats</td>\n      <td>neutral</td>\n      <td>99</td>\n      <td>104</td>\n      <td>0.0</td>\n      <td>0.0</td>\n      <td>0.0</td>\n      <td>3.0</td>\n      <td>0.0</td>\n      <td>1.0</td>\n      <td>Joy</td>\n    </tr>\n    <tr>\n      <th>4830</th>\n      <td>NaN</td>\n      <td>Each table has a pot of boiling water sunken i...</td>\n      <td>vegetables</td>\n      <td>neutral</td>\n      <td>114</td>\n      <td>124</td>\n      <td>0.0</td>\n      <td>0.0</td>\n      <td>0.0</td>\n      <td>2.0</td>\n      <td>0.0</td>\n      <td>1.0</td>\n      <td>Joy</td>\n    </tr>\n    <tr>\n      <th>4831</th>\n      <td>NaN</td>\n      <td>Each table has a pot of boiling water sunken i...</td>\n      <td>rice</td>\n      <td>neutral</td>\n      <td>130</td>\n      <td>134</td>\n      <td>0.0</td>\n      <td>0.0</td>\n      <td>0.0</td>\n      <td>2.0</td>\n      <td>0.0</td>\n      <td>1.0</td>\n      <td>Joy</td>\n    </tr>\n    <tr>\n      <th>4832</th>\n      <td>NaN</td>\n      <td>Each table has a pot of boiling water sunken i...</td>\n      <td>glass noodles</td>\n      <td>neutral</td>\n      <td>139</td>\n      <td>152</td>\n      <td>0.0</td>\n      <td>0.0</td>\n      <td>0.0</td>\n      <td>2.0</td>\n      <td>0.0</td>\n      <td>1.0</td>\n      <td>Joy</td>\n    </tr>\n  </tbody>\n</table>\n<p>4833 rows × 13 columns</p>\n</div>"
     },
     "execution_count": 7,
     "metadata": {},
     "output_type": "execute_result"
    }
   ],
   "source": [
    "# Read the single CSV file\n",
    "df = pd.read_csv('Annotated ABSA with Emotions Dataset.csv')\n",
    "df\n"
   ]
  },
  {
   "cell_type": "code",
   "execution_count": 9,
   "id": "28b71947",
   "metadata": {
    "ExecuteTime": {
     "end_time": "2024-05-28T08:05:18.163271Z",
     "start_time": "2024-05-28T08:05:17.399585Z"
    }
   },
   "outputs": [
    {
     "name": "stdout",
     "output_type": "stream",
     "text": [
      "Data successfully converted to Restaurants.atepc.train.dat format.\n",
      "Data successfully converted to Restaurants.atepc.test.dat format.\n"
     ]
    }
   ],
   "source": [
    "# Calculate the number of rows for training and testing\n",
    "train_size = int(0.7 * len(df))\n",
    "test_size = len(df) - train_size\n",
    "\n",
    "# Split the data into training and testing sets\n",
    "train_df = df.iloc[:train_size]\n",
    "test_df = df.iloc[train_size:]\n",
    "\n",
    "# Convert and save the training and testing data\n",
    "convert_and_save(train_df, 'Restaurants.atepc.train.dat')\n",
    "convert_and_save(test_df, 'Restaurants.atepc.test.dat')"
   ]
  },
  {
   "cell_type": "code",
   "execution_count": 41,
   "id": "e937c726",
   "metadata": {
    "ExecuteTime": {
     "end_time": "2024-05-26T18:01:41.943218Z",
     "start_time": "2024-05-26T18:01:41.937030Z"
    }
   },
   "outputs": [],
   "source": [
    "\"\"\"\n",
    "\"Anger\": 0\n",
    "\"Disgust\": 1\n",
    "\"Fear\": 2\n",
    "\"Joy\": 3\n",
    "\"Sadness\": 4\n",
    "\"Surprise\": 5\n",
    "\"\"\""
   ]
  },
  {
   "cell_type": "code",
   "execution_count": 41,
   "id": "ae83aca4",
   "metadata": {
    "ExecuteTime": {
     "end_time": "2024-05-26T18:01:41.962002Z",
     "start_time": "2024-05-26T18:01:41.954157Z"
    }
   },
   "outputs": [],
   "source": []
  },
  {
   "cell_type": "code",
   "outputs": [],
   "source": [],
   "metadata": {
    "collapsed": false,
    "ExecuteTime": {
     "end_time": "2024-05-26T18:01:41.985095Z",
     "start_time": "2024-05-26T18:01:41.974759Z"
    }
   },
   "id": "3a1b032573fc4721",
   "execution_count": 41
  },
  {
   "cell_type": "code",
   "outputs": [],
   "source": [],
   "metadata": {
    "collapsed": false,
    "ExecuteTime": {
     "end_time": "2024-05-26T18:01:42.009831Z",
     "start_time": "2024-05-26T18:01:42.001435Z"
    }
   },
   "id": "8ac8b9e6607ae165",
   "execution_count": 41
  },
  {
   "cell_type": "code",
   "outputs": [],
   "source": [],
   "metadata": {
    "collapsed": false
   },
   "id": "d83c85cce838cb03"
  }
 ],
 "metadata": {
  "kernelspec": {
   "display_name": "Python 3",
   "language": "python",
   "name": "python3"
  },
  "language_info": {
   "codemirror_mode": {
    "name": "ipython",
    "version": 3
   },
   "file_extension": ".py",
   "mimetype": "text/x-python",
   "name": "python",
   "nbconvert_exporter": "python",
   "pygments_lexer": "ipython3",
   "version": "3.8.8"
  }
 },
 "nbformat": 4,
 "nbformat_minor": 5
}
