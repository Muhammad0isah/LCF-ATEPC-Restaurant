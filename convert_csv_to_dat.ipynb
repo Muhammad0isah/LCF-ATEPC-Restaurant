{
 "cells": [
  {
   "cell_type": "code",
   "execution_count": 1,
   "id": "9cd94e78",
   "metadata": {
    "ExecuteTime": {
     "end_time": "2024-06-07T18:38:01.237544Z",
     "start_time": "2024-06-07T18:37:52.963221Z"
    }
   },
   "outputs": [],
   "source": [
    "import pandas as pd\n",
    "from sklearn.model_selection import train_test_split\n",
    "import string\n",
    "\n",
    "# Function to convert a row to .dat format\n",
    "# Function to convert a row to .dat format\n",
    "def convert_row_to_dat(row, emotion_map):\n",
    "    sentence = row['Review Sentence']\n",
    "    words = sentence.split()\n",
    "    aspect_term = row['Aspect term']\n",
    "    polarity = row['polarity']\n",
    "    from_idx = row['from']\n",
    "    to_idx = row['to']\n",
    "    emotion_class = row['Emotion Class']\n",
    "\n",
    "    dat_lines = []\n",
    "    current_idx = 0\n",
    "\n",
    "    for word in words:\n",
    "        clean_word = word.strip(string.punctuation)  # Remove punctuation from the word\n",
    "        word_start_idx = sentence.find(clean_word, current_idx)\n",
    "        word_end_idx = word_start_idx + len(clean_word)\n",
    "\n",
    "        # Determine aspect term tag and polarity tag\n",
    "        if word_start_idx >= from_idx and word_end_idx <= to_idx:\n",
    "            aspect_tag = 'B-ASP' if sentence[from_idx:to_idx+1].find(clean_word) == 0 else 'I-ASP'\n",
    "            polarity_tag = {\n",
    "                'negative': 0,\n",
    "                'neutral': 1,\n",
    "                'positive': 2,\n",
    "                'conflict': 3,\n",
    "            }.get(polarity, -1)\n",
    "            emotion_tag = emotion_map[emotion_class] \n",
    "        else:\n",
    "            aspect_tag = 'O'\n",
    "            polarity_tag = -1 \n",
    "            # emotion_tag = emotion_map[emotion_class] \n",
    "            emotion_tag = -1\n",
    "\n",
    "\n",
    "        dat_line = f\"{word} {aspect_tag} {polarity_tag} {emotion_tag}\"\n",
    "        # dat_line = f\"{word} {aspect_tag} {polarity_tag}\"\n",
    "        dat_lines.append(dat_line)\n",
    "        current_idx = word_end_idx\n",
    "\n",
    "    dat_lines.append(\"\")  \n",
    "    return \"\\n\".join(dat_lines)\n",
    "def convert_and_save(df, output_dat):\n",
    "    # Manually specify the mapping of emotion classes to integers\n",
    "    emotion_map = {\n",
    "        \"Anger\": 0,\n",
    "        \"Disgust\": 1,\n",
    "        \"Fear\": 2,\n",
    "        \"Joy\": 3,\n",
    "        \"Sadness\": 4,\n",
    "        \"Surprise\": 5\n",
    "    }\n",
    "    dat_content = df.apply(lambda row: convert_row_to_dat(row, emotion_map), axis=1).str.cat(sep='\\n')\n",
    "    with open(output_dat, 'w') as f:\n",
    "        f.write(dat_content)\n",
    "    print(f\"Data successfully converted to {output_dat} format.\")"
   ]
  },
  {
   "cell_type": "code",
   "execution_count": 5,
   "id": "19cf04e2",
   "metadata": {
    "ExecuteTime": {
     "end_time": "2024-06-07T18:39:03.513688Z",
     "start_time": "2024-06-07T18:39:03.389325Z"
    }
   },
   "outputs": [
    {
     "data": {
      "text/plain": "          id                                    Review Sentence  \\\n0     3121.0               But the staff was so horrible to us.   \n1     2777.0  To be completely fair, the only redeeming fact...   \n2     1634.0  The food is uniformly exceptional, with a very...   \n3     1634.0  The food is uniformly exceptional, with a very...   \n4     1634.0  The food is uniformly exceptional, with a very...   \n...      ...                                                ...   \n4828     NaN  Each table has a pot of boiling water sunken i...   \n4829     NaN  Each table has a pot of boiling water sunken i...   \n4830     NaN  Each table has a pot of boiling water sunken i...   \n4831     NaN  Each table has a pot of boiling water sunken i...   \n4832     NaN  Each table has a pot of boiling water sunken i...   \n\n               Aspect term  polarity  from   to  Anger  Disgust  Fear  Joy  \\\n0                    staff  negative     8   13    4.0      1.0   1.0  0.0   \n1                     food  positive    57   61    0.0      0.0   0.0  2.0   \n2                     food  positive     4    8    0.0      0.0   0.0  4.0   \n3                  kitchen  positive    55   62    0.0      0.0   0.0  4.0   \n4                     menu   neutral   141  145    0.0      0.0   0.0  4.0   \n...                    ...       ...   ...  ...    ...      ...   ...  ...   \n4828  pot of boiling water   neutral    17   37    2.0      2.0   0.0  1.0   \n4829                 meats   neutral    99  104    0.0      0.0   0.0  3.0   \n4830            vegetables   neutral   114  124    0.0      0.0   0.0  2.0   \n4831                  rice   neutral   130  134    0.0      0.0   0.0  2.0   \n4832         glass noodles   neutral   139  152    0.0      0.0   0.0  2.0   \n\n      Sadness  Surprise Emotion Class  \n0         3.0       1.0         Anger  \n1         0.0       0.0           Joy  \n2         0.0       0.0           Joy  \n3         0.0       0.0           Joy  \n4         0.0       0.0           Joy  \n...       ...       ...           ...  \n4828      0.0       0.0         Anger  \n4829      0.0       1.0           Joy  \n4830      0.0       1.0           Joy  \n4831      0.0       1.0           Joy  \n4832      0.0       1.0           Joy  \n\n[4833 rows x 13 columns]",
      "text/html": "<div>\n<style scoped>\n    .dataframe tbody tr th:only-of-type {\n        vertical-align: middle;\n    }\n\n    .dataframe tbody tr th {\n        vertical-align: top;\n    }\n\n    .dataframe thead th {\n        text-align: right;\n    }\n</style>\n<table border=\"1\" class=\"dataframe\">\n  <thead>\n    <tr style=\"text-align: right;\">\n      <th></th>\n      <th>id</th>\n      <th>Review Sentence</th>\n      <th>Aspect term</th>\n      <th>polarity</th>\n      <th>from</th>\n      <th>to</th>\n      <th>Anger</th>\n      <th>Disgust</th>\n      <th>Fear</th>\n      <th>Joy</th>\n      <th>Sadness</th>\n      <th>Surprise</th>\n      <th>Emotion Class</th>\n    </tr>\n  </thead>\n  <tbody>\n    <tr>\n      <th>0</th>\n      <td>3121.0</td>\n      <td>But the staff was so horrible to us.</td>\n      <td>staff</td>\n      <td>negative</td>\n      <td>8</td>\n      <td>13</td>\n      <td>4.0</td>\n      <td>1.0</td>\n      <td>1.0</td>\n      <td>0.0</td>\n      <td>3.0</td>\n      <td>1.0</td>\n      <td>Anger</td>\n    </tr>\n    <tr>\n      <th>1</th>\n      <td>2777.0</td>\n      <td>To be completely fair, the only redeeming fact...</td>\n      <td>food</td>\n      <td>positive</td>\n      <td>57</td>\n      <td>61</td>\n      <td>0.0</td>\n      <td>0.0</td>\n      <td>0.0</td>\n      <td>2.0</td>\n      <td>0.0</td>\n      <td>0.0</td>\n      <td>Joy</td>\n    </tr>\n    <tr>\n      <th>2</th>\n      <td>1634.0</td>\n      <td>The food is uniformly exceptional, with a very...</td>\n      <td>food</td>\n      <td>positive</td>\n      <td>4</td>\n      <td>8</td>\n      <td>0.0</td>\n      <td>0.0</td>\n      <td>0.0</td>\n      <td>4.0</td>\n      <td>0.0</td>\n      <td>0.0</td>\n      <td>Joy</td>\n    </tr>\n    <tr>\n      <th>3</th>\n      <td>1634.0</td>\n      <td>The food is uniformly exceptional, with a very...</td>\n      <td>kitchen</td>\n      <td>positive</td>\n      <td>55</td>\n      <td>62</td>\n      <td>0.0</td>\n      <td>0.0</td>\n      <td>0.0</td>\n      <td>4.0</td>\n      <td>0.0</td>\n      <td>0.0</td>\n      <td>Joy</td>\n    </tr>\n    <tr>\n      <th>4</th>\n      <td>1634.0</td>\n      <td>The food is uniformly exceptional, with a very...</td>\n      <td>menu</td>\n      <td>neutral</td>\n      <td>141</td>\n      <td>145</td>\n      <td>0.0</td>\n      <td>0.0</td>\n      <td>0.0</td>\n      <td>4.0</td>\n      <td>0.0</td>\n      <td>0.0</td>\n      <td>Joy</td>\n    </tr>\n    <tr>\n      <th>...</th>\n      <td>...</td>\n      <td>...</td>\n      <td>...</td>\n      <td>...</td>\n      <td>...</td>\n      <td>...</td>\n      <td>...</td>\n      <td>...</td>\n      <td>...</td>\n      <td>...</td>\n      <td>...</td>\n      <td>...</td>\n      <td>...</td>\n    </tr>\n    <tr>\n      <th>4828</th>\n      <td>NaN</td>\n      <td>Each table has a pot of boiling water sunken i...</td>\n      <td>pot of boiling water</td>\n      <td>neutral</td>\n      <td>17</td>\n      <td>37</td>\n      <td>2.0</td>\n      <td>2.0</td>\n      <td>0.0</td>\n      <td>1.0</td>\n      <td>0.0</td>\n      <td>0.0</td>\n      <td>Anger</td>\n    </tr>\n    <tr>\n      <th>4829</th>\n      <td>NaN</td>\n      <td>Each table has a pot of boiling water sunken i...</td>\n      <td>meats</td>\n      <td>neutral</td>\n      <td>99</td>\n      <td>104</td>\n      <td>0.0</td>\n      <td>0.0</td>\n      <td>0.0</td>\n      <td>3.0</td>\n      <td>0.0</td>\n      <td>1.0</td>\n      <td>Joy</td>\n    </tr>\n    <tr>\n      <th>4830</th>\n      <td>NaN</td>\n      <td>Each table has a pot of boiling water sunken i...</td>\n      <td>vegetables</td>\n      <td>neutral</td>\n      <td>114</td>\n      <td>124</td>\n      <td>0.0</td>\n      <td>0.0</td>\n      <td>0.0</td>\n      <td>2.0</td>\n      <td>0.0</td>\n      <td>1.0</td>\n      <td>Joy</td>\n    </tr>\n    <tr>\n      <th>4831</th>\n      <td>NaN</td>\n      <td>Each table has a pot of boiling water sunken i...</td>\n      <td>rice</td>\n      <td>neutral</td>\n      <td>130</td>\n      <td>134</td>\n      <td>0.0</td>\n      <td>0.0</td>\n      <td>0.0</td>\n      <td>2.0</td>\n      <td>0.0</td>\n      <td>1.0</td>\n      <td>Joy</td>\n    </tr>\n    <tr>\n      <th>4832</th>\n      <td>NaN</td>\n      <td>Each table has a pot of boiling water sunken i...</td>\n      <td>glass noodles</td>\n      <td>neutral</td>\n      <td>139</td>\n      <td>152</td>\n      <td>0.0</td>\n      <td>0.0</td>\n      <td>0.0</td>\n      <td>2.0</td>\n      <td>0.0</td>\n      <td>1.0</td>\n      <td>Joy</td>\n    </tr>\n  </tbody>\n</table>\n<p>4833 rows × 13 columns</p>\n</div>"
     },
     "execution_count": 5,
     "metadata": {},
     "output_type": "execute_result"
    }
   ],
   "source": [
    "# Read the single CSV file\n",
    "df = pd.read_csv('Annotated ABSA with Emotions Dataset.csv')\n",
    "df"
   ]
  },
  {
   "cell_type": "code",
   "outputs": [
    {
     "data": {
      "text/plain": "polarity\npositive    2892\nnegative    1003\nneutral      833\nconflict     105\nName: count, dtype: int64"
     },
     "execution_count": 6,
     "metadata": {},
     "output_type": "execute_result"
    }
   ],
   "source": [
    "df['polarity'].value_counts()"
   ],
   "metadata": {
    "collapsed": false,
    "ExecuteTime": {
     "end_time": "2024-06-07T18:39:05.435716Z",
     "start_time": "2024-06-07T18:39:05.407550Z"
    }
   },
   "id": "258d5d0f37cc83d1",
   "execution_count": 6
  },
  {
   "cell_type": "code",
   "outputs": [],
   "source": [
    "# drop dp row with polarity = conflict\n",
    "df = df[df['polarity'] != 'conflict']"
   ],
   "metadata": {
    "collapsed": false,
    "ExecuteTime": {
     "end_time": "2024-06-07T18:39:16.131799Z",
     "start_time": "2024-06-07T18:39:16.120429Z"
    }
   },
   "id": "31910d58e074ce77",
   "execution_count": 7
  },
  {
   "cell_type": "code",
   "outputs": [
    {
     "data": {
      "text/plain": "polarity\npositive    2892\nnegative    1003\nneutral      833\nName: count, dtype: int64"
     },
     "execution_count": 8,
     "metadata": {},
     "output_type": "execute_result"
    }
   ],
   "source": [
    "# count the class of polarity value\n",
    "df['polarity'].value_counts()"
   ],
   "metadata": {
    "collapsed": false,
    "ExecuteTime": {
     "end_time": "2024-06-07T18:39:17.381406Z",
     "start_time": "2024-06-07T18:39:17.352821Z"
    }
   },
   "id": "70f6ac28af9140fb",
   "execution_count": 8
  },
  {
   "cell_type": "code",
   "outputs": [],
   "source": [
    "from imblearn.over_sampling import RandomOverSampler\n",
    "from sklearn.model_selection import train_test_split\n",
    "\n",
    "# Split the data into training and testing sets\n",
    "train_df, test_df = train_test_split(df, test_size=0.20, random_state=42,shuffle=True)\n",
    "\n",
    "# Define the target variable for the training data\n",
    "y_train = train_df['Emotion Class']\n",
    "\n",
    "# Instantiate the RandomOverSampler\n",
    "ros = RandomOverSampler()\n",
    "\n",
    "# Resample the training dataset\n",
    "X_resampled, y_resampled = ros.fit_resample(train_df, y_train)\n",
    "\n",
    "# Now, 'X_resampled' is your DataFrame with balanced 'Emotion Class' for the training data"
   ],
   "metadata": {
    "collapsed": false,
    "ExecuteTime": {
     "end_time": "2024-06-06T10:48:49.781496Z",
     "start_time": "2024-06-06T10:48:47.458070Z"
    }
   },
   "id": "d21a1e4adf239cd8",
   "execution_count": 3
  },
  {
   "cell_type": "code",
   "outputs": [],
   "source": [],
   "metadata": {
    "collapsed": false
   },
   "id": "decf9d8a39da22c3"
  },
  {
   "cell_type": "code",
   "outputs": [
    {
     "data": {
      "text/plain": "Emotion Class\nJoy         2501\nAnger        793\nDisgust      291\nSurprise     150\nFear          85\nSadness       46\nName: count, dtype: int64"
     },
     "execution_count": 7,
     "metadata": {},
     "output_type": "execute_result"
    }
   ],
   "source": [
    "# count the number of emotion class for each value\n",
    "train_df['Emotion Class'].value_counts()"
   ],
   "metadata": {
    "collapsed": false,
    "ExecuteTime": {
     "end_time": "2024-06-06T10:49:15.491515Z",
     "start_time": "2024-06-06T10:49:15.473046Z"
    }
   },
   "id": "b60507965e938cf3",
   "execution_count": 7
  },
  {
   "cell_type": "code",
   "outputs": [
    {
     "data": {
      "text/plain": "Emotion Class\nJoy         2501\nDisgust     2501\nSurprise    2501\nAnger       2501\nSadness     2501\nFear        2501\nName: count, dtype: int64"
     },
     "execution_count": 11,
     "metadata": {},
     "output_type": "execute_result"
    }
   ],
   "source": [
    "# count the number of emotion class for each value\n",
    "X_resampled['Emotion Class'].value_counts()"
   ],
   "metadata": {
    "collapsed": false,
    "ExecuteTime": {
     "end_time": "2024-06-05T14:50:32.752085Z",
     "start_time": "2024-06-05T14:50:32.733686Z"
    }
   },
   "id": "c1e073a555e8a993",
   "execution_count": 11
  },
  {
   "cell_type": "code",
   "outputs": [
    {
     "data": {
      "text/plain": "          id                                    Review Sentence  \\\n432   1646.0  Highly recommended is the Spicy Fried Clam Rol...   \n2948     NaN  You must try Odessa stew or Rabbit stew; salad...   \n289   1624.0  The only thing more wonderful than the food (w...   \n2577     NaN  I can say that the wraps, burgers and salads w...   \n4108     NaN  The service was friendly(1) and the atmosphere...   \n...      ...                                                ...   \n4426     NaN  The staff makes you feel at home(1), the food ...   \n466   2872.0  My wife and I always enjoy the young, not alwa...   \n3092     NaN  Fresh veggies, all sorts of middle eastern spr...   \n3772     NaN  Service was devine(1), oysters where a sensual...   \n860   3492.0           Pizza is terrific, as is homemade pasta.   \n\n          Aspect term  polarity  from   to  Anger  Disgust  Fear  Joy  \\\n432      Spider Rolls  positive    53   65    0.0      0.0   0.0  2.0   \n2948           kompot  positive    62   68    0.0      0.0   0.0  3.0   \n289              food  positive    39   43    0.0      0.0   0.0  4.0   \n2577  mango margareta  positive    75   90    0.0      0.0   0.0  3.0   \n4108          service  positive     4   11    0.0      0.0   0.0  2.0   \n...               ...       ...   ...  ...    ...      ...   ...  ...   \n4426       atmosphere  positive    60   70    0.0      0.0   0.0  2.0   \n466             staff  conflict    89   94    0.0      0.0   0.0  1.0   \n3092    spinach thing  positive   127  140    0.0      0.0   0.0  3.0   \n3772          Service  positive     0    7    0.0      0.0   0.0  3.0   \n860             Pizza  positive     0    5    0.0      0.0   0.0  3.0   \n\n      Sadness  Surprise Emotion Class  \n432       0.0       0.0           Joy  \n2948      0.0       3.0           Joy  \n289       0.0       0.0           Joy  \n2577      0.0       3.0           Joy  \n4108      0.0       1.0           Joy  \n...       ...       ...           ...  \n4426      0.0       1.0           Joy  \n466       0.0       0.0           Joy  \n3092      0.0       3.0           Joy  \n3772      0.0       2.0           Joy  \n860       0.0       0.0           Joy  \n\n[3866 rows x 13 columns]",
      "text/html": "<div>\n<style scoped>\n    .dataframe tbody tr th:only-of-type {\n        vertical-align: middle;\n    }\n\n    .dataframe tbody tr th {\n        vertical-align: top;\n    }\n\n    .dataframe thead th {\n        text-align: right;\n    }\n</style>\n<table border=\"1\" class=\"dataframe\">\n  <thead>\n    <tr style=\"text-align: right;\">\n      <th></th>\n      <th>id</th>\n      <th>Review Sentence</th>\n      <th>Aspect term</th>\n      <th>polarity</th>\n      <th>from</th>\n      <th>to</th>\n      <th>Anger</th>\n      <th>Disgust</th>\n      <th>Fear</th>\n      <th>Joy</th>\n      <th>Sadness</th>\n      <th>Surprise</th>\n      <th>Emotion Class</th>\n    </tr>\n  </thead>\n  <tbody>\n    <tr>\n      <th>432</th>\n      <td>1646.0</td>\n      <td>Highly recommended is the Spicy Fried Clam Rol...</td>\n      <td>Spider Rolls</td>\n      <td>positive</td>\n      <td>53</td>\n      <td>65</td>\n      <td>0.0</td>\n      <td>0.0</td>\n      <td>0.0</td>\n      <td>2.0</td>\n      <td>0.0</td>\n      <td>0.0</td>\n      <td>Joy</td>\n    </tr>\n    <tr>\n      <th>2948</th>\n      <td>NaN</td>\n      <td>You must try Odessa stew or Rabbit stew; salad...</td>\n      <td>kompot</td>\n      <td>positive</td>\n      <td>62</td>\n      <td>68</td>\n      <td>0.0</td>\n      <td>0.0</td>\n      <td>0.0</td>\n      <td>3.0</td>\n      <td>0.0</td>\n      <td>3.0</td>\n      <td>Joy</td>\n    </tr>\n    <tr>\n      <th>289</th>\n      <td>1624.0</td>\n      <td>The only thing more wonderful than the food (w...</td>\n      <td>food</td>\n      <td>positive</td>\n      <td>39</td>\n      <td>43</td>\n      <td>0.0</td>\n      <td>0.0</td>\n      <td>0.0</td>\n      <td>4.0</td>\n      <td>0.0</td>\n      <td>0.0</td>\n      <td>Joy</td>\n    </tr>\n    <tr>\n      <th>2577</th>\n      <td>NaN</td>\n      <td>I can say that the wraps, burgers and salads w...</td>\n      <td>mango margareta</td>\n      <td>positive</td>\n      <td>75</td>\n      <td>90</td>\n      <td>0.0</td>\n      <td>0.0</td>\n      <td>0.0</td>\n      <td>3.0</td>\n      <td>0.0</td>\n      <td>3.0</td>\n      <td>Joy</td>\n    </tr>\n    <tr>\n      <th>4108</th>\n      <td>NaN</td>\n      <td>The service was friendly(1) and the atmosphere...</td>\n      <td>service</td>\n      <td>positive</td>\n      <td>4</td>\n      <td>11</td>\n      <td>0.0</td>\n      <td>0.0</td>\n      <td>0.0</td>\n      <td>2.0</td>\n      <td>0.0</td>\n      <td>1.0</td>\n      <td>Joy</td>\n    </tr>\n    <tr>\n      <th>...</th>\n      <td>...</td>\n      <td>...</td>\n      <td>...</td>\n      <td>...</td>\n      <td>...</td>\n      <td>...</td>\n      <td>...</td>\n      <td>...</td>\n      <td>...</td>\n      <td>...</td>\n      <td>...</td>\n      <td>...</td>\n      <td>...</td>\n    </tr>\n    <tr>\n      <th>4426</th>\n      <td>NaN</td>\n      <td>The staff makes you feel at home(1), the food ...</td>\n      <td>atmosphere</td>\n      <td>positive</td>\n      <td>60</td>\n      <td>70</td>\n      <td>0.0</td>\n      <td>0.0</td>\n      <td>0.0</td>\n      <td>2.0</td>\n      <td>0.0</td>\n      <td>1.0</td>\n      <td>Joy</td>\n    </tr>\n    <tr>\n      <th>466</th>\n      <td>2872.0</td>\n      <td>My wife and I always enjoy the young, not alwa...</td>\n      <td>staff</td>\n      <td>conflict</td>\n      <td>89</td>\n      <td>94</td>\n      <td>0.0</td>\n      <td>0.0</td>\n      <td>0.0</td>\n      <td>1.0</td>\n      <td>0.0</td>\n      <td>0.0</td>\n      <td>Joy</td>\n    </tr>\n    <tr>\n      <th>3092</th>\n      <td>NaN</td>\n      <td>Fresh veggies, all sorts of middle eastern spr...</td>\n      <td>spinach thing</td>\n      <td>positive</td>\n      <td>127</td>\n      <td>140</td>\n      <td>0.0</td>\n      <td>0.0</td>\n      <td>0.0</td>\n      <td>3.0</td>\n      <td>0.0</td>\n      <td>3.0</td>\n      <td>Joy</td>\n    </tr>\n    <tr>\n      <th>3772</th>\n      <td>NaN</td>\n      <td>Service was devine(1), oysters where a sensual...</td>\n      <td>Service</td>\n      <td>positive</td>\n      <td>0</td>\n      <td>7</td>\n      <td>0.0</td>\n      <td>0.0</td>\n      <td>0.0</td>\n      <td>3.0</td>\n      <td>0.0</td>\n      <td>2.0</td>\n      <td>Joy</td>\n    </tr>\n    <tr>\n      <th>860</th>\n      <td>3492.0</td>\n      <td>Pizza is terrific, as is homemade pasta.</td>\n      <td>Pizza</td>\n      <td>positive</td>\n      <td>0</td>\n      <td>5</td>\n      <td>0.0</td>\n      <td>0.0</td>\n      <td>0.0</td>\n      <td>3.0</td>\n      <td>0.0</td>\n      <td>0.0</td>\n      <td>Joy</td>\n    </tr>\n  </tbody>\n</table>\n<p>3866 rows × 13 columns</p>\n</div>"
     },
     "execution_count": 26,
     "metadata": {},
     "output_type": "execute_result"
    }
   ],
   "source": [
    "train_df"
   ],
   "metadata": {
    "collapsed": false,
    "ExecuteTime": {
     "end_time": "2024-06-04T17:31:13.302746Z",
     "start_time": "2024-06-04T17:31:13.218503Z"
    }
   },
   "id": "cbef1508530561c8",
   "execution_count": 26
  },
  {
   "cell_type": "code",
   "outputs": [
    {
     "data": {
      "text/plain": "           id                                    Review Sentence  \\\n0      1646.0  Highly recommended is the Spicy Fried Clam Rol...   \n1         NaN  You must try Odessa stew or Rabbit stew; salad...   \n2      1624.0  The only thing more wonderful than the food (w...   \n3         NaN  I can say that the wraps, burgers and salads w...   \n4         NaN  The service was friendly(1) and the atmosphere...   \n...       ...                                                ...   \n15001   296.0  They did not have mayonnaise, forgot our toast...   \n15002     NaN      Did I mention that the coffee is OUTSTANDING?   \n15003     NaN       Sit back in one of those comfortable chairs.   \n15004     NaN  The menu is interesting(1) and quite reasonabl...   \n15005     NaN  The menu is interesting(1) and quite reasonabl...   \n\n           Aspect term  polarity  from  to  Anger  Disgust  Fear  Joy  \\\n0         Spider Rolls  positive    53  65    0.0      0.0   0.0  2.0   \n1               kompot  positive    62  68    0.0      0.0   0.0  3.0   \n2                 food  positive    39  43    0.0      0.0   0.0  4.0   \n3      mango margareta  positive    75  90    0.0      0.0   0.0  3.0   \n4              service  positive     4  11    0.0      0.0   0.0  2.0   \n...                ...       ...   ...  ..    ...      ...   ...  ...   \n15001            toast  negative    41  46    1.0      1.0   0.0  0.0   \n15002           coffee  positive    23  29    0.0      0.0   0.0  2.0   \n15003           chairs  positive    37  43    0.0      0.0   0.0  2.0   \n15004           priced  positive    45  51    0.0      0.0   0.0  2.0   \n15005           priced  positive    45  51    0.0      0.0   0.0  2.0   \n\n       Sadness  Surprise Emotion Class  \n0          0.0       0.0           Joy  \n1          0.0       3.0           Joy  \n2          0.0       0.0           Joy  \n3          0.0       3.0           Joy  \n4          0.0       1.0           Joy  \n...        ...       ...           ...  \n15001      1.0       2.0      Surprise  \n15002      0.0       3.0      Surprise  \n15003      0.0       3.0      Surprise  \n15004      0.0       3.0      Surprise  \n15005      0.0       3.0      Surprise  \n\n[15006 rows x 13 columns]",
      "text/html": "<div>\n<style scoped>\n    .dataframe tbody tr th:only-of-type {\n        vertical-align: middle;\n    }\n\n    .dataframe tbody tr th {\n        vertical-align: top;\n    }\n\n    .dataframe thead th {\n        text-align: right;\n    }\n</style>\n<table border=\"1\" class=\"dataframe\">\n  <thead>\n    <tr style=\"text-align: right;\">\n      <th></th>\n      <th>id</th>\n      <th>Review Sentence</th>\n      <th>Aspect term</th>\n      <th>polarity</th>\n      <th>from</th>\n      <th>to</th>\n      <th>Anger</th>\n      <th>Disgust</th>\n      <th>Fear</th>\n      <th>Joy</th>\n      <th>Sadness</th>\n      <th>Surprise</th>\n      <th>Emotion Class</th>\n    </tr>\n  </thead>\n  <tbody>\n    <tr>\n      <th>0</th>\n      <td>1646.0</td>\n      <td>Highly recommended is the Spicy Fried Clam Rol...</td>\n      <td>Spider Rolls</td>\n      <td>positive</td>\n      <td>53</td>\n      <td>65</td>\n      <td>0.0</td>\n      <td>0.0</td>\n      <td>0.0</td>\n      <td>2.0</td>\n      <td>0.0</td>\n      <td>0.0</td>\n      <td>Joy</td>\n    </tr>\n    <tr>\n      <th>1</th>\n      <td>NaN</td>\n      <td>You must try Odessa stew or Rabbit stew; salad...</td>\n      <td>kompot</td>\n      <td>positive</td>\n      <td>62</td>\n      <td>68</td>\n      <td>0.0</td>\n      <td>0.0</td>\n      <td>0.0</td>\n      <td>3.0</td>\n      <td>0.0</td>\n      <td>3.0</td>\n      <td>Joy</td>\n    </tr>\n    <tr>\n      <th>2</th>\n      <td>1624.0</td>\n      <td>The only thing more wonderful than the food (w...</td>\n      <td>food</td>\n      <td>positive</td>\n      <td>39</td>\n      <td>43</td>\n      <td>0.0</td>\n      <td>0.0</td>\n      <td>0.0</td>\n      <td>4.0</td>\n      <td>0.0</td>\n      <td>0.0</td>\n      <td>Joy</td>\n    </tr>\n    <tr>\n      <th>3</th>\n      <td>NaN</td>\n      <td>I can say that the wraps, burgers and salads w...</td>\n      <td>mango margareta</td>\n      <td>positive</td>\n      <td>75</td>\n      <td>90</td>\n      <td>0.0</td>\n      <td>0.0</td>\n      <td>0.0</td>\n      <td>3.0</td>\n      <td>0.0</td>\n      <td>3.0</td>\n      <td>Joy</td>\n    </tr>\n    <tr>\n      <th>4</th>\n      <td>NaN</td>\n      <td>The service was friendly(1) and the atmosphere...</td>\n      <td>service</td>\n      <td>positive</td>\n      <td>4</td>\n      <td>11</td>\n      <td>0.0</td>\n      <td>0.0</td>\n      <td>0.0</td>\n      <td>2.0</td>\n      <td>0.0</td>\n      <td>1.0</td>\n      <td>Joy</td>\n    </tr>\n    <tr>\n      <th>...</th>\n      <td>...</td>\n      <td>...</td>\n      <td>...</td>\n      <td>...</td>\n      <td>...</td>\n      <td>...</td>\n      <td>...</td>\n      <td>...</td>\n      <td>...</td>\n      <td>...</td>\n      <td>...</td>\n      <td>...</td>\n      <td>...</td>\n    </tr>\n    <tr>\n      <th>15001</th>\n      <td>296.0</td>\n      <td>They did not have mayonnaise, forgot our toast...</td>\n      <td>toast</td>\n      <td>negative</td>\n      <td>41</td>\n      <td>46</td>\n      <td>1.0</td>\n      <td>1.0</td>\n      <td>0.0</td>\n      <td>0.0</td>\n      <td>1.0</td>\n      <td>2.0</td>\n      <td>Surprise</td>\n    </tr>\n    <tr>\n      <th>15002</th>\n      <td>NaN</td>\n      <td>Did I mention that the coffee is OUTSTANDING?</td>\n      <td>coffee</td>\n      <td>positive</td>\n      <td>23</td>\n      <td>29</td>\n      <td>0.0</td>\n      <td>0.0</td>\n      <td>0.0</td>\n      <td>2.0</td>\n      <td>0.0</td>\n      <td>3.0</td>\n      <td>Surprise</td>\n    </tr>\n    <tr>\n      <th>15003</th>\n      <td>NaN</td>\n      <td>Sit back in one of those comfortable chairs.</td>\n      <td>chairs</td>\n      <td>positive</td>\n      <td>37</td>\n      <td>43</td>\n      <td>0.0</td>\n      <td>0.0</td>\n      <td>0.0</td>\n      <td>2.0</td>\n      <td>0.0</td>\n      <td>3.0</td>\n      <td>Surprise</td>\n    </tr>\n    <tr>\n      <th>15004</th>\n      <td>NaN</td>\n      <td>The menu is interesting(1) and quite reasonabl...</td>\n      <td>priced</td>\n      <td>positive</td>\n      <td>45</td>\n      <td>51</td>\n      <td>0.0</td>\n      <td>0.0</td>\n      <td>0.0</td>\n      <td>2.0</td>\n      <td>0.0</td>\n      <td>3.0</td>\n      <td>Surprise</td>\n    </tr>\n    <tr>\n      <th>15005</th>\n      <td>NaN</td>\n      <td>The menu is interesting(1) and quite reasonabl...</td>\n      <td>priced</td>\n      <td>positive</td>\n      <td>45</td>\n      <td>51</td>\n      <td>0.0</td>\n      <td>0.0</td>\n      <td>0.0</td>\n      <td>2.0</td>\n      <td>0.0</td>\n      <td>3.0</td>\n      <td>Surprise</td>\n    </tr>\n  </tbody>\n</table>\n<p>15006 rows × 13 columns</p>\n</div>"
     },
     "execution_count": 27,
     "metadata": {},
     "output_type": "execute_result"
    }
   ],
   "source": [
    "X_resampled"
   ],
   "metadata": {
    "collapsed": false,
    "ExecuteTime": {
     "end_time": "2024-06-04T17:31:15.564036Z",
     "start_time": "2024-06-04T17:31:15.501102Z"
    }
   },
   "id": "19f26c9c35b605b6",
   "execution_count": 27
  },
  {
   "cell_type": "code",
   "outputs": [
    {
     "name": "stdout",
     "output_type": "stream",
     "text": [
      "Data successfully converted to Restaurants.atepc.train.dat format.\n",
      "Data successfully converted to Restaurants.atepc.test.dat format.\n"
     ]
    }
   ],
   "source": [
    "# Convert and save the training and testing data\n",
    "convert_and_save(X_resampled, 'Restaurants.atepc.train.dat')\n",
    "convert_and_save(test_df, 'Restaurants.atepc.test.dat')"
   ],
   "metadata": {
    "collapsed": false,
    "ExecuteTime": {
     "end_time": "2024-06-05T14:50:50.606089Z",
     "start_time": "2024-06-05T14:50:45.091487Z"
    }
   },
   "id": "fc68bb13dc460e54",
   "execution_count": 12
  },
  {
   "cell_type": "code",
   "outputs": [],
   "source": [],
   "metadata": {
    "collapsed": false,
    "ExecuteTime": {
     "end_time": "2024-06-04T17:29:53.967871Z",
     "start_time": "2024-06-04T17:29:53.965134Z"
    }
   },
   "id": "db70dcb50aeb0c26"
  },
  {
   "cell_type": "code",
   "execution_count": 9,
   "id": "28b71947",
   "metadata": {
    "ExecuteTime": {
     "end_time": "2024-06-07T18:39:54.986414Z",
     "start_time": "2024-06-07T18:39:54.131230Z"
    }
   },
   "outputs": [
    {
     "name": "stdout",
     "output_type": "stream",
     "text": [
      "Data successfully converted to Restaurants.atepc.train.dat format.\n",
      "Data successfully converted to Restaurants.atepc.test.dat format.\n"
     ]
    }
   ],
   "source": [
    "# Calculate the number of rows for training and testing\n",
    "train_size = int(0.75 * len(df))\n",
    "test_size = len(df) - train_size\n",
    "\n",
    "# Split the data into training and testing sets\n",
    "train_df = df.iloc[:train_size]\n",
    "test_df = df.iloc[train_size:]\n",
    "\n",
    "# Convert and save the training and testing data\n",
    "convert_and_save(train_df, 'Restaurants.atepc.train.dat')\n",
    "convert_and_save(test_df, 'Restaurants.atepc.test.dat')"
   ]
  },
  {
   "cell_type": "code",
   "outputs": [
    {
     "data": {
      "text/plain": "<Figure size 1000x500 with 1 Axes>",
      "image/png": "[encoded data removed]"
     },
     "metadata": {},
     "output_type": "display_data"
    }
   ],
   "source": [
    "# analyze df dataframe for check for any imbalance dataset and plot it a graph\n",
    "import matplotlib.pyplot as plt\n",
    "import seaborn as sns\n",
    "plt.figure(figsize=(10, 5))\n",
    "sns.countplot(df['Emotion Class'])\n",
    "plt.title('Emotion Class Distribution')\n",
    "plt.xlabel('Emotion Class') \n",
    "plt.ylabel('Count')\n",
    "plt.xticks(rotation=45)\n",
    "plt.show()\n"
   ],
   "metadata": {
    "collapsed": false,
    "ExecuteTime": {
     "end_time": "2024-06-07T18:58:19.497010Z",
     "start_time": "2024-06-07T18:58:12.755031Z"
    }
   },
   "id": "4ec7a9e65eeb270f",
   "execution_count": 10
  },
  {
   "cell_type": "code",
   "outputs": [
    {
     "data": {
      "text/plain": "<Figure size 1000x500 with 1 Axes>",
      "image/png": "[encoded data removed]"
     },
     "metadata": {},
     "output_type": "display_data"
    }
   ],
   "source": [
    "# analyze df dataframe for check for any imbalance for emotion feature column and polarity dataset and plot it a graph  \n",
    "plt.figure(figsize=(10, 5))\n",
    "sns.countplot(df['polarity'])   \n",
    "plt.title('Polarity Distribution')\n",
    "plt.xlabel('Polarity')\n",
    "plt.ylabel('Count')\n",
    "plt.xticks(rotation=45)\n",
    "plt.show()"
   ],
   "metadata": {
    "collapsed": false,
    "ExecuteTime": {
     "end_time": "2024-06-07T19:02:18.371005Z",
     "start_time": "2024-06-07T19:02:17.580809Z"
    }
   },
   "id": "81bcea3ac0fdaca9",
   "execution_count": 11
  },
  {
   "cell_type": "code",
   "execution_count": 41,
   "id": "e937c726",
   "metadata": {
    "ExecuteTime": {
     "end_time": "2024-05-26T18:01:41.943218Z",
     "start_time": "2024-05-26T18:01:41.937030Z"
    }
   },
   "outputs": [],
   "source": [
    "\"\"\"\n",
    "\"Anger\": 0\n",
    "\"Disgust\": 1\n",
    "\"Fear\": 2\n",
    "\"Joy\": 3\n",
    "\"Sadness\": 4\n",
    "\"Surprise\": 5\n",
    "\"\"\""
   ]
  },
  {
   "cell_type": "markdown",
   "source": [],
   "metadata": {
    "collapsed": false
   },
   "id": "abe6612ebd8d5a31"
  },
  {
   "cell_type": "code",
   "outputs": [],
   "source": [
    "import pandas as pd\n",
    "import numpy as np\n",
    "\n",
    "# Load the .dat file into a DataFrame\n",
    "dat_train_df = pd.read_csv('atepc_datasets/restaurant/Restaurants.atepc.train.dat', sep=' ', names=['word', 'aspect_tag', 'polarity_tag'])\n",
    "dat_test_df = pd.read_csv('atepc_datasets/restaurant/Restaurants.atepc.test.dat', sep=' ', names=['word', 'aspect_tag', 'polarity_tag'])\n",
    "\n",
    "# Add a sentence_id column to dat_df to identify each sentence\n",
    "dat_train_df['sentence_id'] = (dat_train_df['word'] == '').cumsum()\n",
    "dat_test_df['sentence_id'] = (dat_test_df['word'] == '').cumsum()\n",
    "\n",
    "# Load the .csv file into a DataFrame\n",
    "csv_df = pd.read_csv('Annotated ABSA with Emotions Dataset.csv')\n",
    "\n",
    "# Calculate the number of rows for training and testing\n",
    "train_size = int(0.6 * len(csv_df))\n",
    "test_size = len(csv_df) - train_size\n",
    "\n",
    "# Split the data into training and testing sets\n",
    "csv_train_df = csv_df.iloc[:train_size]\n",
    "csv_test_df = csv_df.iloc[train_size:]\n",
    "\n"
   ],
   "metadata": {
    "collapsed": false,
    "ExecuteTime": {
     "end_time": "2024-06-02T09:26:38.494132Z",
     "start_time": "2024-06-02T09:26:38.280211Z"
    }
   },
   "id": "f57be7aa82984741",
   "execution_count": 7
  },
  {
   "cell_type": "code",
   "outputs": [],
   "source": [
    "csv_train_df = csv_df.iloc[:train_size].copy()\n",
    "csv_train_df['sentence_id'] = csv_train_df.groupby('Review Sentence').ngroup()"
   ],
   "metadata": {
    "collapsed": false,
    "ExecuteTime": {
     "end_time": "2024-06-02T09:32:25.828245Z",
     "start_time": "2024-06-02T09:32:25.804712Z"
    }
   },
   "id": "ab22d040854711d7",
   "execution_count": 12
  },
  {
   "cell_type": "code",
   "outputs": [
    {
     "data": {
      "text/plain": "          id                                    Review Sentence  \\\n0     3121.0               But the staff was so horrible to us.   \n1     2777.0  To be completely fair, the only redeeming fact...   \n2     1634.0  The food is uniformly exceptional, with a very...   \n3     1634.0  The food is uniformly exceptional, with a very...   \n4     1634.0  The food is uniformly exceptional, with a very...   \n...      ...                                                ...   \n2894     NaN  Great(1) beer selection too, something like 50...   \n2895     NaN  Not to sound too negative but be wary of the d...   \n2896     NaN  I found the food to be just as good as its(1) ...   \n2897     NaN  I found the food to be just as good as its(1) ...   \n2898     NaN  They have homemade pastas of all kinds -- I re...   \n\n          Aspect term  polarity  from   to  Anger  Disgust  Fear  Joy  \\\n0               staff  negative     8   13    4.0      1.0   1.0  0.0   \n1                food  positive    57   61    0.0      0.0   0.0  2.0   \n2                food  positive     4    8    0.0      0.0   0.0  4.0   \n3             kitchen  positive    55   62    0.0      0.0   0.0  4.0   \n4                menu   neutral   141  145    0.0      0.0   0.0  4.0   \n...               ...       ...   ...  ...    ...      ...   ...  ...   \n2894            beers   neutral    44   49    0.0      0.0   0.0  3.0   \n2895         delivary  negative    45   53    2.0      1.0   0.0  0.0   \n2896             food  positive    12   16    0.0      0.0   0.0  2.0   \n2897            owner  positive    43   48    0.0      0.0   0.0  3.0   \n2898  homemade pastas  positive    10   25    0.0      0.0   0.0  2.0   \n\n      Sadness  Surprise Emotion Class  sentence_id  \n0         3.0       1.0         Anger          139  \n1         0.0       0.0           Joy         1320  \n2         0.0       0.0           Joy          958  \n3         0.0       0.0           Joy          958  \n4         0.0       0.0           Joy          958  \n...       ...       ...           ...          ...  \n2894      0.0       2.0           Joy          316  \n2895      2.0       0.0         Anger          674  \n2896      0.0       2.0           Joy          388  \n2897      0.0       2.0           Joy          388  \n2898      0.0       2.0           Joy         1270  \n\n[2899 rows x 14 columns]",
      "text/html": "<div>\n<style scoped>\n    .dataframe tbody tr th:only-of-type {\n        vertical-align: middle;\n    }\n\n    .dataframe tbody tr th {\n        vertical-align: top;\n    }\n\n    .dataframe thead th {\n        text-align: right;\n    }\n</style>\n<table border=\"1\" class=\"dataframe\">\n  <thead>\n    <tr style=\"text-align: right;\">\n      <th></th>\n      <th>id</th>\n      <th>Review Sentence</th>\n      <th>Aspect term</th>\n      <th>polarity</th>\n      <th>from</th>\n      <th>to</th>\n      <th>Anger</th>\n      <th>Disgust</th>\n      <th>Fear</th>\n      <th>Joy</th>\n      <th>Sadness</th>\n      <th>Surprise</th>\n      <th>Emotion Class</th>\n      <th>sentence_id</th>\n    </tr>\n  </thead>\n  <tbody>\n    <tr>\n      <th>0</th>\n      <td>3121.0</td>\n      <td>But the staff was so horrible to us.</td>\n      <td>staff</td>\n      <td>negative</td>\n      <td>8</td>\n      <td>13</td>\n      <td>4.0</td>\n      <td>1.0</td>\n      <td>1.0</td>\n      <td>0.0</td>\n      <td>3.0</td>\n      <td>1.0</td>\n      <td>Anger</td>\n      <td>139</td>\n    </tr>\n    <tr>\n      <th>1</th>\n      <td>2777.0</td>\n      <td>To be completely fair, the only redeeming fact...</td>\n      <td>food</td>\n      <td>positive</td>\n      <td>57</td>\n      <td>61</td>\n      <td>0.0</td>\n      <td>0.0</td>\n      <td>0.0</td>\n      <td>2.0</td>\n      <td>0.0</td>\n      <td>0.0</td>\n      <td>Joy</td>\n      <td>1320</td>\n    </tr>\n    <tr>\n      <th>2</th>\n      <td>1634.0</td>\n      <td>The food is uniformly exceptional, with a very...</td>\n      <td>food</td>\n      <td>positive</td>\n      <td>4</td>\n      <td>8</td>\n      <td>0.0</td>\n      <td>0.0</td>\n      <td>0.0</td>\n      <td>4.0</td>\n      <td>0.0</td>\n      <td>0.0</td>\n      <td>Joy</td>\n      <td>958</td>\n    </tr>\n    <tr>\n      <th>3</th>\n      <td>1634.0</td>\n      <td>The food is uniformly exceptional, with a very...</td>\n      <td>kitchen</td>\n      <td>positive</td>\n      <td>55</td>\n      <td>62</td>\n      <td>0.0</td>\n      <td>0.0</td>\n      <td>0.0</td>\n      <td>4.0</td>\n      <td>0.0</td>\n      <td>0.0</td>\n      <td>Joy</td>\n      <td>958</td>\n    </tr>\n    <tr>\n      <th>4</th>\n      <td>1634.0</td>\n      <td>The food is uniformly exceptional, with a very...</td>\n      <td>menu</td>\n      <td>neutral</td>\n      <td>141</td>\n      <td>145</td>\n      <td>0.0</td>\n      <td>0.0</td>\n      <td>0.0</td>\n      <td>4.0</td>\n      <td>0.0</td>\n      <td>0.0</td>\n      <td>Joy</td>\n      <td>958</td>\n    </tr>\n    <tr>\n      <th>...</th>\n      <td>...</td>\n      <td>...</td>\n      <td>...</td>\n      <td>...</td>\n      <td>...</td>\n      <td>...</td>\n      <td>...</td>\n      <td>...</td>\n      <td>...</td>\n      <td>...</td>\n      <td>...</td>\n      <td>...</td>\n      <td>...</td>\n      <td>...</td>\n    </tr>\n    <tr>\n      <th>2894</th>\n      <td>NaN</td>\n      <td>Great(1) beer selection too, something like 50...</td>\n      <td>beers</td>\n      <td>neutral</td>\n      <td>44</td>\n      <td>49</td>\n      <td>0.0</td>\n      <td>0.0</td>\n      <td>0.0</td>\n      <td>3.0</td>\n      <td>0.0</td>\n      <td>2.0</td>\n      <td>Joy</td>\n      <td>316</td>\n    </tr>\n    <tr>\n      <th>2895</th>\n      <td>NaN</td>\n      <td>Not to sound too negative but be wary of the d...</td>\n      <td>delivary</td>\n      <td>negative</td>\n      <td>45</td>\n      <td>53</td>\n      <td>2.0</td>\n      <td>1.0</td>\n      <td>0.0</td>\n      <td>0.0</td>\n      <td>2.0</td>\n      <td>0.0</td>\n      <td>Anger</td>\n      <td>674</td>\n    </tr>\n    <tr>\n      <th>2896</th>\n      <td>NaN</td>\n      <td>I found the food to be just as good as its(1) ...</td>\n      <td>food</td>\n      <td>positive</td>\n      <td>12</td>\n      <td>16</td>\n      <td>0.0</td>\n      <td>0.0</td>\n      <td>0.0</td>\n      <td>2.0</td>\n      <td>0.0</td>\n      <td>2.0</td>\n      <td>Joy</td>\n      <td>388</td>\n    </tr>\n    <tr>\n      <th>2897</th>\n      <td>NaN</td>\n      <td>I found the food to be just as good as its(1) ...</td>\n      <td>owner</td>\n      <td>positive</td>\n      <td>43</td>\n      <td>48</td>\n      <td>0.0</td>\n      <td>0.0</td>\n      <td>0.0</td>\n      <td>3.0</td>\n      <td>0.0</td>\n      <td>2.0</td>\n      <td>Joy</td>\n      <td>388</td>\n    </tr>\n    <tr>\n      <th>2898</th>\n      <td>NaN</td>\n      <td>They have homemade pastas of all kinds -- I re...</td>\n      <td>homemade pastas</td>\n      <td>positive</td>\n      <td>10</td>\n      <td>25</td>\n      <td>0.0</td>\n      <td>0.0</td>\n      <td>0.0</td>\n      <td>2.0</td>\n      <td>0.0</td>\n      <td>2.0</td>\n      <td>Joy</td>\n      <td>1270</td>\n    </tr>\n  </tbody>\n</table>\n<p>2899 rows × 14 columns</p>\n</div>"
     },
     "execution_count": 13,
     "metadata": {},
     "output_type": "execute_result"
    }
   ],
   "source": [
    "csv_train_df"
   ],
   "metadata": {
    "collapsed": false,
    "ExecuteTime": {
     "end_time": "2024-06-02T09:32:30.394413Z",
     "start_time": "2024-06-02T09:32:30.270387Z"
    }
   },
   "id": "d923b95d4ff5bd73",
   "execution_count": 13
  },
  {
   "cell_type": "code",
   "outputs": [
    {
     "name": "stderr",
     "output_type": "stream",
     "text": [
      "C:\\Users\\Public\\Documents\\Wondershare\\CreatorTemp\\ipykernel_16932\\120186871.py:1: SettingWithCopyWarning: \n",
      "A value is trying to be set on a copy of a slice from a DataFrame.\n",
      "Try using .loc[row_indexer,col_indexer] = value instead\n",
      "\n",
      "See the caveats in the documentation: https://pandas.pydata.org/pandas-docs/stable/user_guide/indexing.html#returning-a-view-versus-a-copy\n",
      "  csv_test_df['sentence_id'] = csv_test_df.groupby('Review Sentence').ngroup()\n"
     ]
    }
   ],
   "source": [
    "\n",
    "csv_test_df['sentence_id'] = csv_test_df.groupby('Review Sentence').ngroup()"
   ],
   "metadata": {
    "collapsed": false,
    "ExecuteTime": {
     "end_time": "2024-06-02T09:37:28.162060Z",
     "start_time": "2024-06-02T09:37:28.115005Z"
    }
   },
   "id": "ca71c0164ec8aced",
   "execution_count": 19
  },
  {
   "cell_type": "code",
   "outputs": [
    {
     "name": "stderr",
     "output_type": "stream",
     "text": [
      "C:\\Users\\Public\\Documents\\Wondershare\\CreatorTemp\\ipykernel_16932\\2181462802.py:8: FutureWarning: A value is trying to be set on a copy of a DataFrame or Series through chained assignment using an inplace method.\n",
      "The behavior will change in pandas 3.0. This inplace method will never work because the intermediate object on which we are setting values always behaves as a copy.\n",
      "\n",
      "For example, when doing 'df[col].method(value, inplace=True)', try using 'df.method({col: value}, inplace=True)' or df[col] = df[col].method(value) instead, to perform the operation inplace on the original object.\n",
      "\n",
      "\n",
      "  merged_train_df['emotion_tag'].fillna(-1, inplace=True)\n",
      "C:\\Users\\Public\\Documents\\Wondershare\\CreatorTemp\\ipykernel_16932\\2181462802.py:20: FutureWarning: A value is trying to be set on a copy of a DataFrame or Series through chained assignment using an inplace method.\n",
      "The behavior will change in pandas 3.0. This inplace method will never work because the intermediate object on which we are setting values always behaves as a copy.\n",
      "\n",
      "For example, when doing 'df[col].method(value, inplace=True)', try using 'df.method({col: value}, inplace=True)' or df[col] = df[col].method(value) instead, to perform the operation inplace on the original object.\n",
      "\n",
      "\n",
      "  merged_test_df['emotion_tag'].fillna(-1, inplace=True)\n"
     ]
    }
   ],
   "source": [
    "# Merge the training DataFrames on the common key\n",
    "merged_train_df = pd.merge(dat_train_df, csv_train_df, on='sentence_id')\n",
    "\n",
    "# Assign the emotion of the sentence to the words that have an aspect tag in the training set\n",
    "merged_train_df.loc[merged_train_df['aspect_tag'] != 'O', 'emotion_tag'] = merged_train_df['Emotion Class']\n",
    "\n",
    "# Replace NaN values in the 'emotion_tag' column with -1 in the training set\n",
    "merged_train_df['emotion_tag'].fillna(-1, inplace=True)\n",
    "\n",
    "# Save the merged training DataFrame back to a .dat file\n",
    "merged_train_df.to_csv('merged_train_dataset.dat', sep=' ', index=False, header=False, columns=['word', 'aspect_tag', 'polarity_tag', 'emotion_tag'])\n",
    "\n",
    "# Merge the testing DataFrames on the common key\n",
    "merged_test_df = pd.merge(dat_test_df, csv_test_df, on='sentence_id')\n",
    "\n",
    "# Assign the emotion of the sentence to the words that have an aspect tag in the testing set\n",
    "merged_test_df.loc[merged_test_df['aspect_tag'] != 'O', 'emotion_tag'] = merged_test_df['Emotion Class']\n",
    "\n",
    "# Replace NaN values in the 'emotion_tag' column with -1 in the testing set\n",
    "merged_test_df['emotion_tag'].fillna(-1, inplace=True)\n",
    "\n",
    "# Save the merged testing DataFrame back to a .dat file\n",
    "merged_test_df.to_csv('merged_test_dataset.dat', sep=' ', index=False, header=False, columns=['word', 'aspect_tag', 'polarity_tag', 'emotion_tag'])"
   ],
   "metadata": {
    "collapsed": false,
    "ExecuteTime": {
     "end_time": "2024-06-02T09:37:32.598696Z",
     "start_time": "2024-06-02T09:37:30.237006Z"
    }
   },
   "id": "62162bc38fa4de8c",
   "execution_count": 20
  },
  {
   "cell_type": "code",
   "outputs": [
    {
     "data": {
      "text/plain": "        word aspect_tag  polarity_tag emotion_tag\n0        But          O            -1          -1\n1        But          O            -1          -1\n2        But          O            -1          -1\n3        But          O            -1          -1\n4        the          O            -1          -1\n...      ...        ...           ...         ...\n288739  food      B-ASP             2       Anger\n288740     .          O            -1          -1\n288741     .          O            -1          -1\n288742     .          O            -1          -1\n288743     .          O            -1          -1\n\n[288744 rows x 4 columns]",
      "text/html": "<div>\n<style scoped>\n    .dataframe tbody tr th:only-of-type {\n        vertical-align: middle;\n    }\n\n    .dataframe tbody tr th {\n        vertical-align: top;\n    }\n\n    .dataframe thead th {\n        text-align: right;\n    }\n</style>\n<table border=\"1\" class=\"dataframe\">\n  <thead>\n    <tr style=\"text-align: right;\">\n      <th></th>\n      <th>word</th>\n      <th>aspect_tag</th>\n      <th>polarity_tag</th>\n      <th>emotion_tag</th>\n    </tr>\n  </thead>\n  <tbody>\n    <tr>\n      <th>0</th>\n      <td>But</td>\n      <td>O</td>\n      <td>-1</td>\n      <td>-1</td>\n    </tr>\n    <tr>\n      <th>1</th>\n      <td>But</td>\n      <td>O</td>\n      <td>-1</td>\n      <td>-1</td>\n    </tr>\n    <tr>\n      <th>2</th>\n      <td>But</td>\n      <td>O</td>\n      <td>-1</td>\n      <td>-1</td>\n    </tr>\n    <tr>\n      <th>3</th>\n      <td>But</td>\n      <td>O</td>\n      <td>-1</td>\n      <td>-1</td>\n    </tr>\n    <tr>\n      <th>4</th>\n      <td>the</td>\n      <td>O</td>\n      <td>-1</td>\n      <td>-1</td>\n    </tr>\n    <tr>\n      <th>...</th>\n      <td>...</td>\n      <td>...</td>\n      <td>...</td>\n      <td>...</td>\n    </tr>\n    <tr>\n      <th>288739</th>\n      <td>food</td>\n      <td>B-ASP</td>\n      <td>2</td>\n      <td>Anger</td>\n    </tr>\n    <tr>\n      <th>288740</th>\n      <td>.</td>\n      <td>O</td>\n      <td>-1</td>\n      <td>-1</td>\n    </tr>\n    <tr>\n      <th>288741</th>\n      <td>.</td>\n      <td>O</td>\n      <td>-1</td>\n      <td>-1</td>\n    </tr>\n    <tr>\n      <th>288742</th>\n      <td>.</td>\n      <td>O</td>\n      <td>-1</td>\n      <td>-1</td>\n    </tr>\n    <tr>\n      <th>288743</th>\n      <td>.</td>\n      <td>O</td>\n      <td>-1</td>\n      <td>-1</td>\n    </tr>\n  </tbody>\n</table>\n<p>288744 rows × 4 columns</p>\n</div>"
     },
     "execution_count": 26,
     "metadata": {},
     "output_type": "execute_result"
    }
   ],
   "source": [
    "df1 = pd.read_csv('merged_train_dataset.dat', sep=' ', names=['word', 'aspect_tag', 'polarity_tag','emotion_tag'])\n",
    "df1"
   ],
   "metadata": {
    "collapsed": false,
    "ExecuteTime": {
     "end_time": "2024-06-02T09:54:30.523446Z",
     "start_time": "2024-06-02T09:54:29.789299Z"
    }
   },
   "id": "83ee3efdda22c461",
   "execution_count": 26
  },
  {
   "cell_type": "code",
   "outputs": [
    {
     "data": {
      "text/plain": "             word aspect_tag  polarity_tag emotion_tag\n0             But          O            -1          -1\n4             the          O            -1          -1\n8           staff      B-ASP             0       Anger\n12            was          O            -1          -1\n16             so          O            -1          -1\n...           ...        ...           ...         ...\n288064       sake      I-ASP            -1       Anger\n288084   edamames      B-ASP             1       Anger\n288208      plate      I-ASP             1       Anger\n288368     sticks      I-ASP             1       Anger\n288452  criticize          O            -1          -1\n\n[6667 rows x 4 columns]",
      "text/html": "<div>\n<style scoped>\n    .dataframe tbody tr th:only-of-type {\n        vertical-align: middle;\n    }\n\n    .dataframe tbody tr th {\n        vertical-align: top;\n    }\n\n    .dataframe thead th {\n        text-align: right;\n    }\n</style>\n<table border=\"1\" class=\"dataframe\">\n  <thead>\n    <tr style=\"text-align: right;\">\n      <th></th>\n      <th>word</th>\n      <th>aspect_tag</th>\n      <th>polarity_tag</th>\n      <th>emotion_tag</th>\n    </tr>\n  </thead>\n  <tbody>\n    <tr>\n      <th>0</th>\n      <td>But</td>\n      <td>O</td>\n      <td>-1</td>\n      <td>-1</td>\n    </tr>\n    <tr>\n      <th>4</th>\n      <td>the</td>\n      <td>O</td>\n      <td>-1</td>\n      <td>-1</td>\n    </tr>\n    <tr>\n      <th>8</th>\n      <td>staff</td>\n      <td>B-ASP</td>\n      <td>0</td>\n      <td>Anger</td>\n    </tr>\n    <tr>\n      <th>12</th>\n      <td>was</td>\n      <td>O</td>\n      <td>-1</td>\n      <td>-1</td>\n    </tr>\n    <tr>\n      <th>16</th>\n      <td>so</td>\n      <td>O</td>\n      <td>-1</td>\n      <td>-1</td>\n    </tr>\n    <tr>\n      <th>...</th>\n      <td>...</td>\n      <td>...</td>\n      <td>...</td>\n      <td>...</td>\n    </tr>\n    <tr>\n      <th>288064</th>\n      <td>sake</td>\n      <td>I-ASP</td>\n      <td>-1</td>\n      <td>Anger</td>\n    </tr>\n    <tr>\n      <th>288084</th>\n      <td>edamames</td>\n      <td>B-ASP</td>\n      <td>1</td>\n      <td>Anger</td>\n    </tr>\n    <tr>\n      <th>288208</th>\n      <td>plate</td>\n      <td>I-ASP</td>\n      <td>1</td>\n      <td>Anger</td>\n    </tr>\n    <tr>\n      <th>288368</th>\n      <td>sticks</td>\n      <td>I-ASP</td>\n      <td>1</td>\n      <td>Anger</td>\n    </tr>\n    <tr>\n      <th>288452</th>\n      <td>criticize</td>\n      <td>O</td>\n      <td>-1</td>\n      <td>-1</td>\n    </tr>\n  </tbody>\n</table>\n<p>6667 rows × 4 columns</p>\n</div>"
     },
     "execution_count": 27,
     "metadata": {},
     "output_type": "execute_result"
    }
   ],
   "source": [
    "# remove any duplicate column\n",
    "df1.drop_duplicates()"
   ],
   "metadata": {
    "collapsed": false,
    "ExecuteTime": {
     "end_time": "2024-06-02T09:54:38.118594Z",
     "start_time": "2024-06-02T09:54:37.868966Z"
    }
   },
   "id": "f6bb98a608a7b591",
   "execution_count": 27
  },
  {
   "cell_type": "code",
   "outputs": [
    {
     "data": {
      "text/plain": "       word aspect_tag  polarity_tag emotion_tag\n0       The          O            -1          -1\n1       The          O            -1          -1\n2       The          O            -1          -1\n3       The          O            -1          -1\n4       The          O            -1          -1\n...     ...        ...           ...         ...\n127549    .          O            -1          -1\n127550    .          O            -1          -1\n127551    .          O            -1          -1\n127552    .          O            -1          -1\n127553    .          O            -1          -1\n\n[127554 rows x 4 columns]",
      "text/html": "<div>\n<style scoped>\n    .dataframe tbody tr th:only-of-type {\n        vertical-align: middle;\n    }\n\n    .dataframe tbody tr th {\n        vertical-align: top;\n    }\n\n    .dataframe thead th {\n        text-align: right;\n    }\n</style>\n<table border=\"1\" class=\"dataframe\">\n  <thead>\n    <tr style=\"text-align: right;\">\n      <th></th>\n      <th>word</th>\n      <th>aspect_tag</th>\n      <th>polarity_tag</th>\n      <th>emotion_tag</th>\n    </tr>\n  </thead>\n  <tbody>\n    <tr>\n      <th>0</th>\n      <td>The</td>\n      <td>O</td>\n      <td>-1</td>\n      <td>-1</td>\n    </tr>\n    <tr>\n      <th>1</th>\n      <td>The</td>\n      <td>O</td>\n      <td>-1</td>\n      <td>-1</td>\n    </tr>\n    <tr>\n      <th>2</th>\n      <td>The</td>\n      <td>O</td>\n      <td>-1</td>\n      <td>-1</td>\n    </tr>\n    <tr>\n      <th>3</th>\n      <td>The</td>\n      <td>O</td>\n      <td>-1</td>\n      <td>-1</td>\n    </tr>\n    <tr>\n      <th>4</th>\n      <td>The</td>\n      <td>O</td>\n      <td>-1</td>\n      <td>-1</td>\n    </tr>\n    <tr>\n      <th>...</th>\n      <td>...</td>\n      <td>...</td>\n      <td>...</td>\n      <td>...</td>\n    </tr>\n    <tr>\n      <th>127549</th>\n      <td>.</td>\n      <td>O</td>\n      <td>-1</td>\n      <td>-1</td>\n    </tr>\n    <tr>\n      <th>127550</th>\n      <td>.</td>\n      <td>O</td>\n      <td>-1</td>\n      <td>-1</td>\n    </tr>\n    <tr>\n      <th>127551</th>\n      <td>.</td>\n      <td>O</td>\n      <td>-1</td>\n      <td>-1</td>\n    </tr>\n    <tr>\n      <th>127552</th>\n      <td>.</td>\n      <td>O</td>\n      <td>-1</td>\n      <td>-1</td>\n    </tr>\n    <tr>\n      <th>127553</th>\n      <td>.</td>\n      <td>O</td>\n      <td>-1</td>\n      <td>-1</td>\n    </tr>\n  </tbody>\n</table>\n<p>127554 rows × 4 columns</p>\n</div>"
     },
     "execution_count": 24,
     "metadata": {},
     "output_type": "execute_result"
    }
   ],
   "source": [
    "df2 = pd.read_csv('merged_test_dataset.dat', sep=' ', names=['word', 'aspect_tag', 'polarity_tag','emotion_tag'])\n",
    "df2"
   ],
   "metadata": {
    "collapsed": false,
    "ExecuteTime": {
     "end_time": "2024-06-02T09:53:26.541716Z",
     "start_time": "2024-06-02T09:53:26.357522Z"
    }
   },
   "id": "8f1ee9d294447032",
   "execution_count": 24
  },
  {
   "cell_type": "code",
   "outputs": [
    {
     "data": {
      "text/plain": "                word aspect_tag  polarity_tag emotion_tag\n0                The          O            -1          -1\n6              bread      B-ASP             2       Anger\n12                is          O            -1          -1\n18               top          O            -1          -1\n24             notch          O            -1          -1\n...              ...        ...           ...         ...\n127074    appetizers      I-ASP            -1       Anger\n127212          warm      B-ASP             1       Anger\n127218         pitas      I-ASP             1       Anger\n127248  taramasalata      B-ASP             2       Anger\n127422      eggplant      B-ASP             2       Anger\n\n[3207 rows x 4 columns]",
      "text/html": "<div>\n<style scoped>\n    .dataframe tbody tr th:only-of-type {\n        vertical-align: middle;\n    }\n\n    .dataframe tbody tr th {\n        vertical-align: top;\n    }\n\n    .dataframe thead th {\n        text-align: right;\n    }\n</style>\n<table border=\"1\" class=\"dataframe\">\n  <thead>\n    <tr style=\"text-align: right;\">\n      <th></th>\n      <th>word</th>\n      <th>aspect_tag</th>\n      <th>polarity_tag</th>\n      <th>emotion_tag</th>\n    </tr>\n  </thead>\n  <tbody>\n    <tr>\n      <th>0</th>\n      <td>The</td>\n      <td>O</td>\n      <td>-1</td>\n      <td>-1</td>\n    </tr>\n    <tr>\n      <th>6</th>\n      <td>bread</td>\n      <td>B-ASP</td>\n      <td>2</td>\n      <td>Anger</td>\n    </tr>\n    <tr>\n      <th>12</th>\n      <td>is</td>\n      <td>O</td>\n      <td>-1</td>\n      <td>-1</td>\n    </tr>\n    <tr>\n      <th>18</th>\n      <td>top</td>\n      <td>O</td>\n      <td>-1</td>\n      <td>-1</td>\n    </tr>\n    <tr>\n      <th>24</th>\n      <td>notch</td>\n      <td>O</td>\n      <td>-1</td>\n      <td>-1</td>\n    </tr>\n    <tr>\n      <th>...</th>\n      <td>...</td>\n      <td>...</td>\n      <td>...</td>\n      <td>...</td>\n    </tr>\n    <tr>\n      <th>127074</th>\n      <td>appetizers</td>\n      <td>I-ASP</td>\n      <td>-1</td>\n      <td>Anger</td>\n    </tr>\n    <tr>\n      <th>127212</th>\n      <td>warm</td>\n      <td>B-ASP</td>\n      <td>1</td>\n      <td>Anger</td>\n    </tr>\n    <tr>\n      <th>127218</th>\n      <td>pitas</td>\n      <td>I-ASP</td>\n      <td>1</td>\n      <td>Anger</td>\n    </tr>\n    <tr>\n      <th>127248</th>\n      <td>taramasalata</td>\n      <td>B-ASP</td>\n      <td>2</td>\n      <td>Anger</td>\n    </tr>\n    <tr>\n      <th>127422</th>\n      <td>eggplant</td>\n      <td>B-ASP</td>\n      <td>2</td>\n      <td>Anger</td>\n    </tr>\n  </tbody>\n</table>\n<p>3207 rows × 4 columns</p>\n</div>"
     },
     "execution_count": 25,
     "metadata": {},
     "output_type": "execute_result"
    }
   ],
   "source": [
    "df2.drop_duplicates()"
   ],
   "metadata": {
    "collapsed": false,
    "ExecuteTime": {
     "end_time": "2024-06-02T09:53:56.226190Z",
     "start_time": "2024-06-02T09:53:56.080463Z"
    }
   },
   "id": "c7d8a036b3e66bc2",
   "execution_count": 25
  },
  {
   "cell_type": "code",
   "outputs": [],
   "source": [
    "df3_test =df2.replace([\"Anger\",\"Disgust\",\"Fear\",\"Joy\", \"Sadness\",\"Surprise\",],[0,1,2,3,4,5])"
   ],
   "metadata": {
    "collapsed": false,
    "ExecuteTime": {
     "end_time": "2024-06-02T10:11:40.344822Z",
     "start_time": "2024-06-02T10:11:39.985759Z"
    }
   },
   "id": "799fb9c55dab2cc7",
   "execution_count": 33
  },
  {
   "cell_type": "code",
   "outputs": [],
   "source": [
    "df3_test=df3_test.drop_duplicates()"
   ],
   "metadata": {
    "collapsed": false,
    "ExecuteTime": {
     "end_time": "2024-06-02T10:13:37.494741Z",
     "start_time": "2024-06-02T10:13:37.387743Z"
    }
   },
   "id": "501225418bf5d0b5",
   "execution_count": 38
  },
  {
   "cell_type": "code",
   "outputs": [],
   "source": [
    "df3_train =df1.replace([\"Anger\",\"Disgust\",\"Fear\",\"Joy\", \"Sadness\",\"Surprise\",],[0,1,2,3,4,5])"
   ],
   "metadata": {
    "collapsed": false,
    "ExecuteTime": {
     "end_time": "2024-06-02T10:13:01.097387Z",
     "start_time": "2024-06-02T10:12:58.866603Z"
    }
   },
   "id": "fd727b4bde832e92",
   "execution_count": 36
  },
  {
   "cell_type": "code",
   "outputs": [],
   "source": [
    "df3_train= df3_train.drop_duplicates()"
   ],
   "metadata": {
    "collapsed": false,
    "ExecuteTime": {
     "end_time": "2024-06-02T10:13:54.209104Z",
     "start_time": "2024-06-02T10:13:53.564522Z"
    }
   },
   "id": "f1196827e4858be0",
   "execution_count": 39
  },
  {
   "cell_type": "code",
   "outputs": [
    {
     "data": {
      "text/plain": "             word aspect_tag  polarity_tag emotion_tag\n0             But          O            -1          -1\n4             the          O            -1          -1\n8           staff      B-ASP             0           0\n12            was          O            -1          -1\n16             so          O            -1          -1\n...           ...        ...           ...         ...\n288064       sake      I-ASP            -1           0\n288084   edamames      B-ASP             1           0\n288208      plate      I-ASP             1           0\n288368     sticks      I-ASP             1           0\n288452  criticize          O            -1          -1\n\n[6667 rows x 4 columns]",
      "text/html": "<div>\n<style scoped>\n    .dataframe tbody tr th:only-of-type {\n        vertical-align: middle;\n    }\n\n    .dataframe tbody tr th {\n        vertical-align: top;\n    }\n\n    .dataframe thead th {\n        text-align: right;\n    }\n</style>\n<table border=\"1\" class=\"dataframe\">\n  <thead>\n    <tr style=\"text-align: right;\">\n      <th></th>\n      <th>word</th>\n      <th>aspect_tag</th>\n      <th>polarity_tag</th>\n      <th>emotion_tag</th>\n    </tr>\n  </thead>\n  <tbody>\n    <tr>\n      <th>0</th>\n      <td>But</td>\n      <td>O</td>\n      <td>-1</td>\n      <td>-1</td>\n    </tr>\n    <tr>\n      <th>4</th>\n      <td>the</td>\n      <td>O</td>\n      <td>-1</td>\n      <td>-1</td>\n    </tr>\n    <tr>\n      <th>8</th>\n      <td>staff</td>\n      <td>B-ASP</td>\n      <td>0</td>\n      <td>0</td>\n    </tr>\n    <tr>\n      <th>12</th>\n      <td>was</td>\n      <td>O</td>\n      <td>-1</td>\n      <td>-1</td>\n    </tr>\n    <tr>\n      <th>16</th>\n      <td>so</td>\n      <td>O</td>\n      <td>-1</td>\n      <td>-1</td>\n    </tr>\n    <tr>\n      <th>...</th>\n      <td>...</td>\n      <td>...</td>\n      <td>...</td>\n      <td>...</td>\n    </tr>\n    <tr>\n      <th>288064</th>\n      <td>sake</td>\n      <td>I-ASP</td>\n      <td>-1</td>\n      <td>0</td>\n    </tr>\n    <tr>\n      <th>288084</th>\n      <td>edamames</td>\n      <td>B-ASP</td>\n      <td>1</td>\n      <td>0</td>\n    </tr>\n    <tr>\n      <th>288208</th>\n      <td>plate</td>\n      <td>I-ASP</td>\n      <td>1</td>\n      <td>0</td>\n    </tr>\n    <tr>\n      <th>288368</th>\n      <td>sticks</td>\n      <td>I-ASP</td>\n      <td>1</td>\n      <td>0</td>\n    </tr>\n    <tr>\n      <th>288452</th>\n      <td>criticize</td>\n      <td>O</td>\n      <td>-1</td>\n      <td>-1</td>\n    </tr>\n  </tbody>\n</table>\n<p>6667 rows × 4 columns</p>\n</div>"
     },
     "execution_count": 41,
     "metadata": {},
     "output_type": "execute_result"
    }
   ],
   "source": [
    "df3_train"
   ],
   "metadata": {
    "collapsed": false,
    "ExecuteTime": {
     "end_time": "2024-06-02T10:17:09.344628Z",
     "start_time": "2024-06-02T10:17:09.317936Z"
    }
   },
   "id": "68cef9c54ccd12bb",
   "execution_count": 41
  },
  {
   "cell_type": "code",
   "outputs": [
    {
     "data": {
      "text/plain": "                word aspect_tag  polarity_tag emotion_tag\n0                The          O            -1          -1\n6              bread      B-ASP             2           0\n12                is          O            -1          -1\n18               top          O            -1          -1\n24             notch          O            -1          -1\n...              ...        ...           ...         ...\n127074    appetizers      I-ASP            -1           0\n127212          warm      B-ASP             1           0\n127218         pitas      I-ASP             1           0\n127248  taramasalata      B-ASP             2           0\n127422      eggplant      B-ASP             2           0\n\n[3207 rows x 4 columns]",
      "text/html": "<div>\n<style scoped>\n    .dataframe tbody tr th:only-of-type {\n        vertical-align: middle;\n    }\n\n    .dataframe tbody tr th {\n        vertical-align: top;\n    }\n\n    .dataframe thead th {\n        text-align: right;\n    }\n</style>\n<table border=\"1\" class=\"dataframe\">\n  <thead>\n    <tr style=\"text-align: right;\">\n      <th></th>\n      <th>word</th>\n      <th>aspect_tag</th>\n      <th>polarity_tag</th>\n      <th>emotion_tag</th>\n    </tr>\n  </thead>\n  <tbody>\n    <tr>\n      <th>0</th>\n      <td>The</td>\n      <td>O</td>\n      <td>-1</td>\n      <td>-1</td>\n    </tr>\n    <tr>\n      <th>6</th>\n      <td>bread</td>\n      <td>B-ASP</td>\n      <td>2</td>\n      <td>0</td>\n    </tr>\n    <tr>\n      <th>12</th>\n      <td>is</td>\n      <td>O</td>\n      <td>-1</td>\n      <td>-1</td>\n    </tr>\n    <tr>\n      <th>18</th>\n      <td>top</td>\n      <td>O</td>\n      <td>-1</td>\n      <td>-1</td>\n    </tr>\n    <tr>\n      <th>24</th>\n      <td>notch</td>\n      <td>O</td>\n      <td>-1</td>\n      <td>-1</td>\n    </tr>\n    <tr>\n      <th>...</th>\n      <td>...</td>\n      <td>...</td>\n      <td>...</td>\n      <td>...</td>\n    </tr>\n    <tr>\n      <th>127074</th>\n      <td>appetizers</td>\n      <td>I-ASP</td>\n      <td>-1</td>\n      <td>0</td>\n    </tr>\n    <tr>\n      <th>127212</th>\n      <td>warm</td>\n      <td>B-ASP</td>\n      <td>1</td>\n      <td>0</td>\n    </tr>\n    <tr>\n      <th>127218</th>\n      <td>pitas</td>\n      <td>I-ASP</td>\n      <td>1</td>\n      <td>0</td>\n    </tr>\n    <tr>\n      <th>127248</th>\n      <td>taramasalata</td>\n      <td>B-ASP</td>\n      <td>2</td>\n      <td>0</td>\n    </tr>\n    <tr>\n      <th>127422</th>\n      <td>eggplant</td>\n      <td>B-ASP</td>\n      <td>2</td>\n      <td>0</td>\n    </tr>\n  </tbody>\n</table>\n<p>3207 rows × 4 columns</p>\n</div>"
     },
     "execution_count": 42,
     "metadata": {},
     "output_type": "execute_result"
    }
   ],
   "source": [
    "df3_test"
   ],
   "metadata": {
    "collapsed": false,
    "ExecuteTime": {
     "end_time": "2024-06-02T10:17:21.937440Z",
     "start_time": "2024-06-02T10:17:21.910062Z"
    }
   },
   "id": "9219198929b99aad",
   "execution_count": 42
  },
  {
   "cell_type": "code",
   "outputs": [],
   "source": [
    "# save train\n",
    "df3_train.to_csv('Restaurants.atepc.train.dat', sep=' ', index=False, header=False, columns=['word', 'aspect_tag', 'polarity_tag', 'emotion_tag'])"
   ],
   "metadata": {
    "collapsed": false
   },
   "id": "a7c82c300d076ac1"
  },
  {
   "cell_type": "code",
   "outputs": [],
   "source": [
    "# save train\n",
    "df3_test.to_csv('Restaurants.atepc.test.dat', sep=' ', index=False, header=False, columns=['word', 'aspect_tag', 'polarity_tag', 'emotion_tag'])"
   ],
   "metadata": {
    "collapsed": false,
    "ExecuteTime": {
     "end_time": "2024-06-02T10:16:03.395444Z",
     "start_time": "2024-06-02T10:16:03.343493Z"
    }
   },
   "id": "7a8708c2c004b579",
   "execution_count": 40
  }
 ],
 "metadata": {
  "kernelspec": {
   "display_name": "Python 3",
   "language": "python",
   "name": "python3"
  },
  "language_info": {
   "codemirror_mode": {
    "name": "ipython",
    "version": 3
   },
   "file_extension": ".py",
   "mimetype": "text/x-python",
   "name": "python",
   "nbconvert_exporter": "python",
   "pygments_lexer": "ipython3",
   "version": "3.8.8"
  }
 },
 "nbformat": 4,
 "nbformat_minor": 5
}
