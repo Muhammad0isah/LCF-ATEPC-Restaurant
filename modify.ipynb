{
 "cells": [
  {
   "cell_type": "code",
   "execution_count": 1,
   "id": "initial_id",
   "metadata": {
    "collapsed": true,
    "ExecuteTime": {
     "end_time": "2024-06-25T13:11:27.333389Z",
     "start_time": "2024-06-25T13:11:25.382039Z"
    }
   },
   "outputs": [],
   "source": [
    "import re\n",
    "\n",
    "import pandas as pd\n"
   ]
  },
  {
   "cell_type": "code",
   "outputs": [
    {
     "data": {
      "text/plain": "                                        Review Sentence           Aspect term  \\\n0                  But the staff was so horrible to us.                 staff   \n1     To be completely fair, the only redeeming fact...                  food   \n2     The food is uniformly exceptional, with a very...                  food   \n3     The food is uniformly exceptional, with a very...               kitchen   \n4     The food is uniformly exceptional, with a very...                  menu   \n...                                                 ...                   ...   \n4827  Each table has a pot of boiling water sunken i...  pot of boiling water   \n4828  Each table has a pot of boiling water sunken i...                 meats   \n4829  Each table has a pot of boiling water sunken i...            vegetables   \n4830  Each table has a pot of boiling water sunken i...                  rice   \n4831  Each table has a pot of boiling water sunken i...         glass noodles   \n\n      polarity  from   to  Anger  Disgust  Fear  Joy  Sadness  Surprise  \\\n0     negative     8   13    4.0      1.0   1.0  0.0      3.0       1.0   \n1     positive    57   61    0.0      0.0   0.0  2.0      0.0       0.0   \n2     positive     4    8    0.0      0.0   0.0  4.0      0.0       0.0   \n3     positive    55   62    0.0      0.0   0.0  4.0      0.0       0.0   \n4      neutral   141  145    0.0      0.0   0.0  4.0      0.0       0.0   \n...        ...   ...  ...    ...      ...   ...  ...      ...       ...   \n4827   neutral    17   37    2.0      2.0   0.0  1.0      0.0       0.0   \n4828   neutral    99  104    0.0      0.0   0.0  3.0      0.0       1.0   \n4829   neutral   114  124    0.0      0.0   0.0  2.0      0.0       1.0   \n4830   neutral   130  134    0.0      0.0   0.0  2.0      0.0       1.0   \n4831   neutral   139  152    0.0      0.0   0.0  2.0      0.0       1.0   \n\n     Emotion Class                              emotion context words  \n0            Anger                                           horrible  \n1              Joy                            which was above average  \n2              Joy        uniformly exceptional, very capable proudly  \n3              Joy          uniformly exceptional very capableproudly  \n4              Joy           uniformly exceptionalvery capableproudly  \n...            ...                                                ...  \n4827         Anger  sunken into its surface(1)you get platters of ...  \n4828           Joy  sunken into its surface(1)you get platters of ...  \n4829           Joy  sunken into its surface(1)you get platters of ...  \n4830           Joy  sunken into its surface(1)you get platters of ...  \n4831           Joy  sunken into its surface(1)you get platters of ...  \n\n[4832 rows x 13 columns]",
      "text/html": "<div>\n<style scoped>\n    .dataframe tbody tr th:only-of-type {\n        vertical-align: middle;\n    }\n\n    .dataframe tbody tr th {\n        vertical-align: top;\n    }\n\n    .dataframe thead th {\n        text-align: right;\n    }\n</style>\n<table border=\"1\" class=\"dataframe\">\n  <thead>\n    <tr style=\"text-align: right;\">\n      <th></th>\n      <th>Review Sentence</th>\n      <th>Aspect term</th>\n      <th>polarity</th>\n      <th>from</th>\n      <th>to</th>\n      <th>Anger</th>\n      <th>Disgust</th>\n      <th>Fear</th>\n      <th>Joy</th>\n      <th>Sadness</th>\n      <th>Surprise</th>\n      <th>Emotion Class</th>\n      <th>emotion context words</th>\n    </tr>\n  </thead>\n  <tbody>\n    <tr>\n      <th>0</th>\n      <td>But the staff was so horrible to us.</td>\n      <td>staff</td>\n      <td>negative</td>\n      <td>8</td>\n      <td>13</td>\n      <td>4.0</td>\n      <td>1.0</td>\n      <td>1.0</td>\n      <td>0.0</td>\n      <td>3.0</td>\n      <td>1.0</td>\n      <td>Anger</td>\n      <td>horrible</td>\n    </tr>\n    <tr>\n      <th>1</th>\n      <td>To be completely fair, the only redeeming fact...</td>\n      <td>food</td>\n      <td>positive</td>\n      <td>57</td>\n      <td>61</td>\n      <td>0.0</td>\n      <td>0.0</td>\n      <td>0.0</td>\n      <td>2.0</td>\n      <td>0.0</td>\n      <td>0.0</td>\n      <td>Joy</td>\n      <td>which was above average</td>\n    </tr>\n    <tr>\n      <th>2</th>\n      <td>The food is uniformly exceptional, with a very...</td>\n      <td>food</td>\n      <td>positive</td>\n      <td>4</td>\n      <td>8</td>\n      <td>0.0</td>\n      <td>0.0</td>\n      <td>0.0</td>\n      <td>4.0</td>\n      <td>0.0</td>\n      <td>0.0</td>\n      <td>Joy</td>\n      <td>uniformly exceptional, very capable proudly</td>\n    </tr>\n    <tr>\n      <th>3</th>\n      <td>The food is uniformly exceptional, with a very...</td>\n      <td>kitchen</td>\n      <td>positive</td>\n      <td>55</td>\n      <td>62</td>\n      <td>0.0</td>\n      <td>0.0</td>\n      <td>0.0</td>\n      <td>4.0</td>\n      <td>0.0</td>\n      <td>0.0</td>\n      <td>Joy</td>\n      <td>uniformly exceptional very capableproudly</td>\n    </tr>\n    <tr>\n      <th>4</th>\n      <td>The food is uniformly exceptional, with a very...</td>\n      <td>menu</td>\n      <td>neutral</td>\n      <td>141</td>\n      <td>145</td>\n      <td>0.0</td>\n      <td>0.0</td>\n      <td>0.0</td>\n      <td>4.0</td>\n      <td>0.0</td>\n      <td>0.0</td>\n      <td>Joy</td>\n      <td>uniformly exceptionalvery capableproudly</td>\n    </tr>\n    <tr>\n      <th>...</th>\n      <td>...</td>\n      <td>...</td>\n      <td>...</td>\n      <td>...</td>\n      <td>...</td>\n      <td>...</td>\n      <td>...</td>\n      <td>...</td>\n      <td>...</td>\n      <td>...</td>\n      <td>...</td>\n      <td>...</td>\n      <td>...</td>\n    </tr>\n    <tr>\n      <th>4827</th>\n      <td>Each table has a pot of boiling water sunken i...</td>\n      <td>pot of boiling water</td>\n      <td>neutral</td>\n      <td>17</td>\n      <td>37</td>\n      <td>2.0</td>\n      <td>2.0</td>\n      <td>0.0</td>\n      <td>1.0</td>\n      <td>0.0</td>\n      <td>0.0</td>\n      <td>Anger</td>\n      <td>sunken into its surface(1)you get platters of ...</td>\n    </tr>\n    <tr>\n      <th>4828</th>\n      <td>Each table has a pot of boiling water sunken i...</td>\n      <td>meats</td>\n      <td>neutral</td>\n      <td>99</td>\n      <td>104</td>\n      <td>0.0</td>\n      <td>0.0</td>\n      <td>0.0</td>\n      <td>3.0</td>\n      <td>0.0</td>\n      <td>1.0</td>\n      <td>Joy</td>\n      <td>sunken into its surface(1)you get platters of ...</td>\n    </tr>\n    <tr>\n      <th>4829</th>\n      <td>Each table has a pot of boiling water sunken i...</td>\n      <td>vegetables</td>\n      <td>neutral</td>\n      <td>114</td>\n      <td>124</td>\n      <td>0.0</td>\n      <td>0.0</td>\n      <td>0.0</td>\n      <td>2.0</td>\n      <td>0.0</td>\n      <td>1.0</td>\n      <td>Joy</td>\n      <td>sunken into its surface(1)you get platters of ...</td>\n    </tr>\n    <tr>\n      <th>4830</th>\n      <td>Each table has a pot of boiling water sunken i...</td>\n      <td>rice</td>\n      <td>neutral</td>\n      <td>130</td>\n      <td>134</td>\n      <td>0.0</td>\n      <td>0.0</td>\n      <td>0.0</td>\n      <td>2.0</td>\n      <td>0.0</td>\n      <td>1.0</td>\n      <td>Joy</td>\n      <td>sunken into its surface(1)you get platters of ...</td>\n    </tr>\n    <tr>\n      <th>4831</th>\n      <td>Each table has a pot of boiling water sunken i...</td>\n      <td>glass noodles</td>\n      <td>neutral</td>\n      <td>139</td>\n      <td>152</td>\n      <td>0.0</td>\n      <td>0.0</td>\n      <td>0.0</td>\n      <td>2.0</td>\n      <td>0.0</td>\n      <td>1.0</td>\n      <td>Joy</td>\n      <td>sunken into its surface(1)you get platters of ...</td>\n    </tr>\n  </tbody>\n</table>\n<p>4832 rows × 13 columns</p>\n</div>"
     },
     "execution_count": 3,
     "metadata": {},
     "output_type": "execute_result"
    }
   ],
   "source": [
    "df = pd.read_csv(\"Annotated ABSA with Emotions Dataset.csv\")\n",
    "df"
   ],
   "metadata": {
    "collapsed": false,
    "ExecuteTime": {
     "end_time": "2024-06-25T13:11:41.510094Z",
     "start_time": "2024-06-25T13:11:41.358119Z"
    }
   },
   "id": "558e065c7c5e5502",
   "execution_count": 3
  },
  {
   "cell_type": "code",
   "outputs": [
    {
     "name": "stdout",
     "output_type": "stream",
     "text": [
      "                                        Review Sentence           Aspect term  \\\n",
      "0                  But the staff was so horrible to us.                 staff   \n",
      "1     To be completely fair, the only redeeming fact...                  food   \n",
      "2     The food is uniformly exceptional, with a very...                  food   \n",
      "3     The food is uniformly exceptional, with a very...               kitchen   \n",
      "4     The food is uniformly exceptional, with a very...                  menu   \n",
      "...                                                 ...                   ...   \n",
      "4827  Each table has a pot of boiling water sunken i...  pot of boiling water   \n",
      "4828  Each table has a pot of boiling water sunken i...                 meats   \n",
      "4829  Each table has a pot of boiling water sunken i...            vegetables   \n",
      "4830  Each table has a pot of boiling water sunken i...                  rice   \n",
      "4831  Each table has a pot of boiling water sunken i...         glass noodles   \n",
      "\n",
      "      polarity  from   to  Anger  Disgust  Fear  Joy  Sadness  Surprise  \\\n",
      "0     negative     8   13    4.0      1.0   1.0  0.0      3.0       1.0   \n",
      "1     positive    57   61    0.0      0.0   0.0  2.0      0.0       0.0   \n",
      "2     positive     4    8    0.0      0.0   0.0  4.0      0.0       0.0   \n",
      "3     positive    55   62    0.0      0.0   0.0  4.0      0.0       0.0   \n",
      "4      neutral   141  145    0.0      0.0   0.0  4.0      0.0       0.0   \n",
      "...        ...   ...  ...    ...      ...   ...  ...      ...       ...   \n",
      "4827   neutral    17   37    2.0      2.0   0.0  1.0      0.0       0.0   \n",
      "4828   neutral    99  104    0.0      0.0   0.0  3.0      0.0       1.0   \n",
      "4829   neutral   114  124    0.0      0.0   0.0  2.0      0.0       1.0   \n",
      "4830   neutral   130  134    0.0      0.0   0.0  2.0      0.0       1.0   \n",
      "4831   neutral   139  152    0.0      0.0   0.0  2.0      0.0       1.0   \n",
      "\n",
      "     Emotion Class                              emotion context words  \n",
      "0            Anger                                           horrible  \n",
      "1              Joy                            which was above average  \n",
      "2              Joy        uniformly exceptional, very capable proudly  \n",
      "3              Joy          uniformly exceptional very capableproudly  \n",
      "4              Joy           uniformly exceptionalvery capableproudly  \n",
      "...            ...                                                ...  \n",
      "4827         Anger  sunken into its surfaceyou get platters of thi...  \n",
      "4828           Joy  sunken into its surfaceyou get platters of thi...  \n",
      "4829           Joy  sunken into its surfaceyou get platters of thi...  \n",
      "4830           Joy  sunken into its surfaceyou get platters of thi...  \n",
      "4831           Joy  sunken into its surfaceyou get platters of thi...  \n",
      "\n",
      "[4832 rows x 13 columns]\n"
     ]
    }
   ],
   "source": [
    "\n",
    "# Function to apply re.sub if the value is a string\n",
    "def remove_symbols(text):\n",
    "    if isinstance(text, str):\n",
    "        return re.sub(r'\\(\\d+\\)', '', text)\n",
    "    return text\n",
    "\n",
    "# Apply the function to the columns\n",
    "df['Review Sentence'] = df['Review Sentence'].apply(remove_symbols)\n",
    "df['emotion context words'] = df['emotion context words'].apply(remove_symbols)\n",
    "\n",
    "print(df)"
   ],
   "metadata": {
    "collapsed": false,
    "ExecuteTime": {
     "end_time": "2024-06-25T13:17:48.685985Z",
     "start_time": "2024-06-25T13:17:48.620375Z"
    }
   },
   "id": "44f54c958a5c4171",
   "execution_count": 6
  },
  {
   "cell_type": "code",
   "outputs": [
    {
     "data": {
      "text/plain": "                                        Review Sentence           Aspect term  \\\n0                  But the staff was so horrible to us.                 staff   \n1     To be completely fair, the only redeeming fact...                  food   \n2     The food is uniformly exceptional, with a very...                  food   \n3     The food is uniformly exceptional, with a very...               kitchen   \n4     The food is uniformly exceptional, with a very...                  menu   \n...                                                 ...                   ...   \n4827  Each table has a pot of boiling water sunken i...  pot of boiling water   \n4828  Each table has a pot of boiling water sunken i...                 meats   \n4829  Each table has a pot of boiling water sunken i...            vegetables   \n4830  Each table has a pot of boiling water sunken i...                  rice   \n4831  Each table has a pot of boiling water sunken i...         glass noodles   \n\n      polarity  from   to  Anger  Disgust  Fear  Joy  Sadness  Surprise  \\\n0     negative     8   13    4.0      1.0   1.0  0.0      3.0       1.0   \n1     positive    57   61    0.0      0.0   0.0  2.0      0.0       0.0   \n2     positive     4    8    0.0      0.0   0.0  4.0      0.0       0.0   \n3     positive    55   62    0.0      0.0   0.0  4.0      0.0       0.0   \n4      neutral   141  145    0.0      0.0   0.0  4.0      0.0       0.0   \n...        ...   ...  ...    ...      ...   ...  ...      ...       ...   \n4827   neutral    17   37    2.0      2.0   0.0  1.0      0.0       0.0   \n4828   neutral    99  104    0.0      0.0   0.0  3.0      0.0       1.0   \n4829   neutral   114  124    0.0      0.0   0.0  2.0      0.0       1.0   \n4830   neutral   130  134    0.0      0.0   0.0  2.0      0.0       1.0   \n4831   neutral   139  152    0.0      0.0   0.0  2.0      0.0       1.0   \n\n     Emotion Class                              emotion context words  \n0            Anger                                           horrible  \n1              Joy                            which was above average  \n2              Joy        uniformly exceptional, very capable proudly  \n3              Joy          uniformly exceptional very capableproudly  \n4              Joy           uniformly exceptionalvery capableproudly  \n...            ...                                                ...  \n4827         Anger  sunken into its surfaceyou get platters of thi...  \n4828           Joy  sunken into its surfaceyou get platters of thi...  \n4829           Joy  sunken into its surfaceyou get platters of thi...  \n4830           Joy  sunken into its surfaceyou get platters of thi...  \n4831           Joy  sunken into its surfaceyou get platters of thi...  \n\n[4832 rows x 13 columns]",
      "text/html": "<div>\n<style scoped>\n    .dataframe tbody tr th:only-of-type {\n        vertical-align: middle;\n    }\n\n    .dataframe tbody tr th {\n        vertical-align: top;\n    }\n\n    .dataframe thead th {\n        text-align: right;\n    }\n</style>\n<table border=\"1\" class=\"dataframe\">\n  <thead>\n    <tr style=\"text-align: right;\">\n      <th></th>\n      <th>Review Sentence</th>\n      <th>Aspect term</th>\n      <th>polarity</th>\n      <th>from</th>\n      <th>to</th>\n      <th>Anger</th>\n      <th>Disgust</th>\n      <th>Fear</th>\n      <th>Joy</th>\n      <th>Sadness</th>\n      <th>Surprise</th>\n      <th>Emotion Class</th>\n      <th>emotion context words</th>\n    </tr>\n  </thead>\n  <tbody>\n    <tr>\n      <th>0</th>\n      <td>But the staff was so horrible to us.</td>\n      <td>staff</td>\n      <td>negative</td>\n      <td>8</td>\n      <td>13</td>\n      <td>4.0</td>\n      <td>1.0</td>\n      <td>1.0</td>\n      <td>0.0</td>\n      <td>3.0</td>\n      <td>1.0</td>\n      <td>Anger</td>\n      <td>horrible</td>\n    </tr>\n    <tr>\n      <th>1</th>\n      <td>To be completely fair, the only redeeming fact...</td>\n      <td>food</td>\n      <td>positive</td>\n      <td>57</td>\n      <td>61</td>\n      <td>0.0</td>\n      <td>0.0</td>\n      <td>0.0</td>\n      <td>2.0</td>\n      <td>0.0</td>\n      <td>0.0</td>\n      <td>Joy</td>\n      <td>which was above average</td>\n    </tr>\n    <tr>\n      <th>2</th>\n      <td>The food is uniformly exceptional, with a very...</td>\n      <td>food</td>\n      <td>positive</td>\n      <td>4</td>\n      <td>8</td>\n      <td>0.0</td>\n      <td>0.0</td>\n      <td>0.0</td>\n      <td>4.0</td>\n      <td>0.0</td>\n      <td>0.0</td>\n      <td>Joy</td>\n      <td>uniformly exceptional, very capable proudly</td>\n    </tr>\n    <tr>\n      <th>3</th>\n      <td>The food is uniformly exceptional, with a very...</td>\n      <td>kitchen</td>\n      <td>positive</td>\n      <td>55</td>\n      <td>62</td>\n      <td>0.0</td>\n      <td>0.0</td>\n      <td>0.0</td>\n      <td>4.0</td>\n      <td>0.0</td>\n      <td>0.0</td>\n      <td>Joy</td>\n      <td>uniformly exceptional very capableproudly</td>\n    </tr>\n    <tr>\n      <th>4</th>\n      <td>The food is uniformly exceptional, with a very...</td>\n      <td>menu</td>\n      <td>neutral</td>\n      <td>141</td>\n      <td>145</td>\n      <td>0.0</td>\n      <td>0.0</td>\n      <td>0.0</td>\n      <td>4.0</td>\n      <td>0.0</td>\n      <td>0.0</td>\n      <td>Joy</td>\n      <td>uniformly exceptionalvery capableproudly</td>\n    </tr>\n    <tr>\n      <th>...</th>\n      <td>...</td>\n      <td>...</td>\n      <td>...</td>\n      <td>...</td>\n      <td>...</td>\n      <td>...</td>\n      <td>...</td>\n      <td>...</td>\n      <td>...</td>\n      <td>...</td>\n      <td>...</td>\n      <td>...</td>\n      <td>...</td>\n    </tr>\n    <tr>\n      <th>4827</th>\n      <td>Each table has a pot of boiling water sunken i...</td>\n      <td>pot of boiling water</td>\n      <td>neutral</td>\n      <td>17</td>\n      <td>37</td>\n      <td>2.0</td>\n      <td>2.0</td>\n      <td>0.0</td>\n      <td>1.0</td>\n      <td>0.0</td>\n      <td>0.0</td>\n      <td>Anger</td>\n      <td>sunken into its surfaceyou get platters of thi...</td>\n    </tr>\n    <tr>\n      <th>4828</th>\n      <td>Each table has a pot of boiling water sunken i...</td>\n      <td>meats</td>\n      <td>neutral</td>\n      <td>99</td>\n      <td>104</td>\n      <td>0.0</td>\n      <td>0.0</td>\n      <td>0.0</td>\n      <td>3.0</td>\n      <td>0.0</td>\n      <td>1.0</td>\n      <td>Joy</td>\n      <td>sunken into its surfaceyou get platters of thi...</td>\n    </tr>\n    <tr>\n      <th>4829</th>\n      <td>Each table has a pot of boiling water sunken i...</td>\n      <td>vegetables</td>\n      <td>neutral</td>\n      <td>114</td>\n      <td>124</td>\n      <td>0.0</td>\n      <td>0.0</td>\n      <td>0.0</td>\n      <td>2.0</td>\n      <td>0.0</td>\n      <td>1.0</td>\n      <td>Joy</td>\n      <td>sunken into its surfaceyou get platters of thi...</td>\n    </tr>\n    <tr>\n      <th>4830</th>\n      <td>Each table has a pot of boiling water sunken i...</td>\n      <td>rice</td>\n      <td>neutral</td>\n      <td>130</td>\n      <td>134</td>\n      <td>0.0</td>\n      <td>0.0</td>\n      <td>0.0</td>\n      <td>2.0</td>\n      <td>0.0</td>\n      <td>1.0</td>\n      <td>Joy</td>\n      <td>sunken into its surfaceyou get platters of thi...</td>\n    </tr>\n    <tr>\n      <th>4831</th>\n      <td>Each table has a pot of boiling water sunken i...</td>\n      <td>glass noodles</td>\n      <td>neutral</td>\n      <td>139</td>\n      <td>152</td>\n      <td>0.0</td>\n      <td>0.0</td>\n      <td>0.0</td>\n      <td>2.0</td>\n      <td>0.0</td>\n      <td>1.0</td>\n      <td>Joy</td>\n      <td>sunken into its surfaceyou get platters of thi...</td>\n    </tr>\n  </tbody>\n</table>\n<p>4832 rows × 13 columns</p>\n</div>"
     },
     "execution_count": 7,
     "metadata": {},
     "output_type": "execute_result"
    }
   ],
   "source": [
    "df"
   ],
   "metadata": {
    "collapsed": false,
    "ExecuteTime": {
     "end_time": "2024-06-25T13:17:57.259251Z",
     "start_time": "2024-06-25T13:17:57.208085Z"
    }
   },
   "id": "8028799e4c277485",
   "execution_count": 7
  },
  {
   "cell_type": "code",
   "outputs": [],
   "source": [
    "df.to_csv(\"Dataset.csv\")"
   ],
   "metadata": {
    "collapsed": false,
    "ExecuteTime": {
     "end_time": "2024-06-25T13:18:26.791251Z",
     "start_time": "2024-06-25T13:18:26.658523Z"
    }
   },
   "id": "43620b1ef9fa2779",
   "execution_count": 8
  },
  {
   "cell_type": "code",
   "outputs": [
    {
     "name": "stdout",
     "output_type": "stream",
     "text": [
      "<class 'pandas.core.frame.DataFrame'>\n",
      "RangeIndex: 4832 entries, 0 to 4831\n",
      "Data columns (total 13 columns):\n",
      " #   Column                 Non-Null Count  Dtype  \n",
      "---  ------                 --------------  -----  \n",
      " 0   Review Sentence        4832 non-null   object \n",
      " 1   Aspect term            4832 non-null   object \n",
      " 2   polarity               4832 non-null   object \n",
      " 3   from                   4832 non-null   int64  \n",
      " 4   to                     4832 non-null   int64  \n",
      " 5   Anger                  4830 non-null   float64\n",
      " 6   Disgust                4831 non-null   float64\n",
      " 7   Fear                   4826 non-null   float64\n",
      " 8   Joy                    4815 non-null   float64\n",
      " 9   Sadness                4830 non-null   float64\n",
      " 10  Surprise               4823 non-null   float64\n",
      " 11  Emotion Class          4832 non-null   object \n",
      " 12  emotion context words  4671 non-null   object \n",
      "dtypes: float64(6), int64(2), object(5)\n",
      "memory usage: 490.9+ KB\n"
     ]
    }
   ],
   "source": [
    "df.info()"
   ],
   "metadata": {
    "collapsed": false,
    "ExecuteTime": {
     "end_time": "2024-06-25T13:20:31.055332Z",
     "start_time": "2024-06-25T13:20:31.022007Z"
    }
   },
   "id": "7d8bf6a89fb1dbdb",
   "execution_count": 9
  },
  {
   "cell_type": "code",
   "outputs": [],
   "source": [],
   "metadata": {
    "collapsed": false
   },
   "id": "6b968c2e80385173"
  }
 ],
 "metadata": {
  "kernelspec": {
   "display_name": "Python 3",
   "language": "python",
   "name": "python3"
  },
  "language_info": {
   "codemirror_mode": {
    "name": "ipython",
    "version": 2
   },
   "file_extension": ".py",
   "mimetype": "text/x-python",
   "name": "python",
   "nbconvert_exporter": "python",
   "pygments_lexer": "ipython2",
   "version": "2.7.6"
  }
 },
 "nbformat": 4,
 "nbformat_minor": 5
}
